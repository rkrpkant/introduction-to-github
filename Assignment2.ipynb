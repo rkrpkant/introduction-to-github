{
  "cells": [
    {
      "cell_type": "markdown",
      "metadata": {
        "id": "view-in-github",
        "colab_type": "text"
      },
      "source": [
        "<a href=\"https://colab.research.google.com/github/rkrpkant/introduction-to-github/blob/main/Assignment2.ipynb\" target=\"_parent\"><img src=\"https://colab.research.google.com/assets/colab-badge.svg\" alt=\"Open In Colab\"/></a>"
      ]
    },
    {
      "cell_type": "markdown",
      "metadata": {
        "id": "ClIPUaepGaMV"
      },
      "source": [
        "**Q1**. Explain the importance of Functions.\n",
        "\n",
        "**Ans**. Functions are a fundamental concept in programming and play a vital role in writing efficient, maintainable, and reusable code. Here are some reasons why functions are important:\n",
        "\n",
        "1. **Code Reusability-**\n",
        "Functions allow you to reuse code without having to rewrite it. Once a function is defined, it can be called multiple times with different inputs, saving effort and reducing redundancy.\n",
        "2. **Modularity-**\n",
        "Functions break down a program into smaller, manageable chunks. Each function handles a specific task, making it easier to understand, debug, and maintain the code.\n",
        "3. **Improved Readability-**\n",
        "By using functions with descriptive names, code becomes more self-explanatory. For example, calculate_total() is easier to understand than a block of code that calculates the total.\n",
        "4. **Avoiding Repetition (DRY Principle)-**\n",
        "Functions help adhere to the DRY (Don't Repeat Yourself) principle by consolidating repeated logic into a single place, reducing errors and effort when updates are needed.\n",
        "5. **Easier Debugging-**\n",
        "Since functions are self-contained units, debugging becomes more straightforward. You can test each function individually to ensure its correctness.\n",
        "6. **Scalability-**\n",
        "Functions make it easier to scale applications by enabling the integration of additional functionality. You can add more functions without affecting the existing ones significantly.\n",
        "7. **Parameterization and Customization-**\n",
        "Functions accept parameters, allowing you to customize their behavior for specific use cases. For instance, a sorting function can sort lists in ascending or descending order based on a parameter.\n",
        "8. **Encapsulation-**\n",
        "Functions encapsulate logic and details, exposing only the necessary inputs and outputs. This abstraction hides complexity and makes the code more modular.\n",
        "9. **Facilitates Collaboration-**\n",
        "In team environments, functions allow different team members to work on separate parts of a program without interfering with each other's code.\n",
        "10. **Improved Performance with Recursion-**\n",
        "Functions can call themselves (recursion) to solve complex problems like traversing trees or performing divide-and-conquer algorithms, making them a powerful tool in problem-solving."
      ]
    },
    {
      "cell_type": "code",
      "execution_count": null,
      "metadata": {
        "id": "7b6t0D4kHpkA"
      },
      "outputs": [],
      "source": [
        "# Q2. Write a basic function to greet students.\n",
        "def greet_student(name):\n",
        "\n",
        "    print(f\"Hello, {name}! Welcome to the class.\")\n",
        "\n",
        "# Example usage:\n",
        "greet_student(\"Ajay\")  # Output: Hello, Ajay! Welcome to the class.\n",
        "\n",
        "\n",
        "\n"
      ]
    },
    {
      "cell_type": "markdown",
      "metadata": {
        "id": "R-3mAQHKIJCi"
      },
      "source": [
        "**Q3**.What is the difference between print and return statements.\n",
        "\n",
        "**Ans:** **print:** Displays output to the console (standard output). It is used for debugging or providing information to the user.\n",
        "\n",
        "**return:** Sends a value back from a function to the caller and terminates the function's execution.\n"
      ]
    },
    {
      "cell_type": "code",
      "execution_count": null,
      "metadata": {
        "colab": {
          "base_uri": "https://localhost:8080/"
        },
        "id": "CtUjTZbZ5-UX",
        "outputId": "2752b28d-59b3-42c3-ed37-fd946b87190b"
      },
      "outputs": [
        {
          "name": "stdout",
          "output_type": "stream",
          "text": [
            "1\n",
            "2\n",
            "3\n",
            "a: 1\n",
            "b: 2\n",
            "c: 3\n"
          ]
        }
      ],
      "source": [
        "# Q4. What are *args and **kwargs?\n",
        "\n",
        "# Ans. In Python, *args and **kwargs are used to pass a variable number of arguments to a function.\n",
        "\n",
        "# *args (Non-keyword arguments): This allows you to pass a variable number of non-keyword arguments to a function.\n",
        "# It collects all the positional arguments into a tuple.\n",
        "\n",
        "# Example.\n",
        "def my_func(*args):\n",
        "    for arg in args:\n",
        "        print(arg)\n",
        "\n",
        "my_func(1, 2, 3)  # Output: 1, 2, 3\n",
        "\n",
        "\n",
        "\n",
        "# **kwargs (Keyword arguments): This allows you to pass a variable number of keyword arguments (i.e., named arguments) to a function.\n",
        "# It collects them into a dictionary.\n",
        "# Example.\n",
        "def my_func(**kwargs):\n",
        "    for key, value in kwargs.items():\n",
        "        print(f\"{key}: {value}\")\n",
        "\n",
        "my_func(a=1, b=2, c=3)  # Output: a: 1, b: 2, c: 3"
      ]
    },
    {
      "cell_type": "code",
      "execution_count": null,
      "metadata": {
        "colab": {
          "base_uri": "https://localhost:8080/"
        },
        "id": "yXzzN0Lp6VBy",
        "outputId": "8b15e888-1b35-4bd8-ddaa-c25a3169986d"
      },
      "outputs": [
        {
          "name": "stdout",
          "output_type": "stream",
          "text": [
            "0\n",
            "1\n",
            "2\n",
            "3\n",
            "4\n"
          ]
        }
      ],
      "source": [
        "# Q5. Explain the iterator function.\n",
        "# Ans. An iterator in Python is an object that implements two key methods: __iter__() and __next__().\n",
        "\n",
        "# 1. __iter__():\n",
        "# This method is called when an iterator is created.\n",
        "# It returns the iterator object itself.\n",
        "# This is required for an object to be used in a loop, like for loops.\n",
        "# 2. __next__():\n",
        "# This method returns the next value in the sequence when called.\n",
        "# Once the sequence is exhausted, it raises a StopIteration exception to signal that there are no more items.\n",
        "class MyIterator:\n",
        "    def __init__(self, start, end):\n",
        "        self.current = start\n",
        "        self.end = end\n",
        "\n",
        "    def __iter__(self):\n",
        "        return self  # Return the iterator object\n",
        "\n",
        "    def __next__(self):\n",
        "        if self.current >= self.end:\n",
        "            raise StopIteration  # Stop iteration when the end is reached\n",
        "        self.current += 1\n",
        "        return self.current - 1  # Return the current value\n",
        "\n",
        "# Create an instance of the iterator\n",
        "my_iter = MyIterator(0, 5)\n",
        "\n",
        "# Use the iterator\n",
        "for number in my_iter:\n",
        "    print(number)\n",
        "\n"
      ]
    },
    {
      "cell_type": "code",
      "execution_count": null,
      "metadata": {
        "colab": {
          "base_uri": "https://localhost:8080/"
        },
        "id": "wqmdcJxr6elR",
        "outputId": "51a7daab-58d5-46f0-fe60-fb544561f16f"
      },
      "outputs": [
        {
          "name": "stdout",
          "output_type": "stream",
          "text": [
            "1\n",
            "4\n",
            "9\n",
            "16\n",
            "25\n"
          ]
        }
      ],
      "source": [
        "# Q6. Write a code that generates the squares of numbers from 1 to n using a generator.\n",
        "def generate_squares(n):\n",
        "    for i in range(1, n+1):\n",
        "        yield i**2\n",
        "\n",
        "# Usage:\n",
        "n = 5\n",
        "squares = generate_squares(n)\n",
        "for square in squares:\n",
        "    print(square)\n"
      ]
    },
    {
      "cell_type": "code",
      "execution_count": null,
      "metadata": {
        "colab": {
          "base_uri": "https://localhost:8080/"
        },
        "id": "GSHUH_Ml6n-p",
        "outputId": "e5b2ab76-93ff-4385-e8bf-f0699c3ba1fd"
      },
      "outputs": [
        {
          "name": "stdout",
          "output_type": "stream",
          "text": [
            "1\n",
            "2\n",
            "3\n",
            "4\n",
            "5\n",
            "6\n",
            "7\n",
            "8\n",
            "9\n",
            "11\n",
            "22\n",
            "33\n",
            "44\n",
            "55\n",
            "66\n",
            "77\n",
            "88\n",
            "99\n"
          ]
        }
      ],
      "source": [
        "# Q7. Write a code that generates palindromic numbers up to n using a generator.\n",
        "def generate_palindromes(n):\n",
        "    for i in range(1, n+1):\n",
        "        if str(i) == str(i)[::-1]:\n",
        "            yield i\n",
        "\n",
        "# Usage:\n",
        "n = 100\n",
        "palindromes = generate_palindromes(n)\n",
        "for palindrome in palindromes:\n",
        "    print(palindrome)\n"
      ]
    },
    {
      "cell_type": "code",
      "execution_count": null,
      "metadata": {
        "colab": {
          "base_uri": "https://localhost:8080/"
        },
        "id": "OE3ni3qi6rmY",
        "outputId": "86af90d0-d2e5-47b7-fc02-3cce28180edb"
      },
      "outputs": [
        {
          "name": "stdout",
          "output_type": "stream",
          "text": [
            "2\n",
            "4\n",
            "6\n",
            "8\n",
            "10\n",
            "12\n",
            "14\n",
            "16\n",
            "18\n",
            "20\n",
            "22\n",
            "24\n",
            "26\n",
            "28\n",
            "30\n"
          ]
        }
      ],
      "source": [
        "# Q8.Write a code that generates even numbers from 2 to n using a generator\n",
        "def even_number(n):\n",
        "    for i in range (2, n+1):\n",
        "        if i%2 ==0:\n",
        "            yield i\n",
        "\n",
        "n = 30\n",
        "even = even_number(n)\n",
        "for number in even:\n",
        "    print(number)\n"
      ]
    },
    {
      "cell_type": "code",
      "execution_count": null,
      "metadata": {
        "colab": {
          "base_uri": "https://localhost:8080/"
        },
        "id": "ChjK_Pze6vDJ",
        "outputId": "fc4bed65-c0bb-41a0-cee0-b65a3fd0cadc"
      },
      "outputs": [
        {
          "name": "stdout",
          "output_type": "stream",
          "text": [
            "1\n",
            "2\n",
            "4\n",
            "8\n",
            "16\n",
            "32\n",
            "64\n"
          ]
        }
      ],
      "source": [
        "# Q9. Write a code that generates powers of two up to n using a generator.\n",
        "def power_of_two(n):\n",
        "    power = 1\n",
        "    while power <= n:\n",
        "        yield power\n",
        "        power *=2\n",
        "\n",
        "\n",
        "n = 100\n",
        "generate = power_of_two(n)\n",
        "for power in generate:\n",
        "    print(power)"
      ]
    },
    {
      "cell_type": "code",
      "execution_count": null,
      "metadata": {
        "colab": {
          "base_uri": "https://localhost:8080/"
        },
        "id": "M5uS8Qc96yP5",
        "outputId": "22a5caf2-7c8b-46c1-b8e6-68f7a36ca826"
      },
      "outputs": [
        {
          "name": "stdout",
          "output_type": "stream",
          "text": [
            "2\n",
            "3\n",
            "5\n",
            "7\n",
            "11\n",
            "13\n",
            "17\n",
            "19\n",
            "23\n",
            "29\n",
            "31\n",
            "37\n",
            "41\n",
            "43\n",
            "47\n"
          ]
        }
      ],
      "source": [
        "# Q10. Write a code that generates prime numbers up to n using a generator.\n",
        "def generate_primes(n):\n",
        "    # Helper function to check if a number is prime\n",
        "    def is_prime(num):\n",
        "        if num < 2:\n",
        "            return False\n",
        "        for i in range(2, int(num**0.5) + 1):\n",
        "            if num % i == 0:\n",
        "                return False\n",
        "        return True\n",
        "\n",
        "    for i in range(2, n+1):\n",
        "        if is_prime(i):\n",
        "            yield i  # Yield the prime number\n",
        "\n",
        "# Usage:\n",
        "n = 50\n",
        "primes = generate_primes(n)\n",
        "\n",
        "# Loop through the generator to print the prime numbers\n",
        "for prime in primes:\n",
        "    print(prime)\n"
      ]
    },
    {
      "cell_type": "code",
      "execution_count": null,
      "metadata": {
        "colab": {
          "base_uri": "https://localhost:8080/"
        },
        "id": "lGp_phxW61L5",
        "outputId": "e7fd8aa0-bbc4-4473-8ebf-7196e832d2b2"
      },
      "outputs": [
        {
          "name": "stdout",
          "output_type": "stream",
          "text": [
            "The sum of 5 and 7 is : 12\n"
          ]
        }
      ],
      "source": [
        "# Q11. Write a code that uses a lambda function to calculate the sum of two numbers.\n",
        "# Using a lambda function to sum two numbers\n",
        "sum_of_two = lambda x, y: x + y\n",
        "\n",
        "# Usage:\n",
        "num1 = 5\n",
        "num2 = 7\n",
        "result = sum_of_two(num1, num2)\n",
        "\n",
        "print(f\"The sum of {num1} and {num2} is : {result}\")\n"
      ]
    },
    {
      "cell_type": "code",
      "execution_count": null,
      "metadata": {
        "colab": {
          "base_uri": "https://localhost:8080/"
        },
        "id": "_vcudKI5659a",
        "outputId": "114d895a-12f4-464e-ccb5-f7b935ab4da3"
      },
      "outputs": [
        {
          "name": "stdout",
          "output_type": "stream",
          "text": [
            "The square of given number is: 25\n"
          ]
        }
      ],
      "source": [
        "# Q12. Write a code that uses a lambda function to calculate the square of a given number.\n",
        "square_number = lambda x: x**2\n",
        "\n",
        "num1 = 5\n",
        "result = square_number(num1)\n",
        "print(\"The square of given number is:\", result)"
      ]
    },
    {
      "cell_type": "code",
      "execution_count": null,
      "metadata": {
        "colab": {
          "background_save": true,
          "base_uri": "https://localhost:8080/"
        },
        "id": "c5ISFMVP680B",
        "outputId": "209708c1-c1cd-4f65-d156-3996f42f322d"
      },
      "outputs": [
        {
          "name": "stdout",
          "output_type": "stream",
          "text": [
            "your number is:  EVEN\n"
          ]
        }
      ],
      "source": [
        "# Q13 Write a code that uses a lambda function to check whether a given number is even or odd.\n",
        "check_even_odd = lambda x: \"EVEN\" if x%2 ==0 else \"ODD\"\n",
        "\n",
        "num1 = int(input(\"enter a number for checking odd even: \"))\n",
        "\n",
        "result = check_even_odd(num1)\n",
        "print(\"your number is: \", result)"
      ]
    },
    {
      "cell_type": "code",
      "execution_count": null,
      "metadata": {
        "id": "dduKjOmc6_Nn",
        "colab": {
          "base_uri": "https://localhost:8080/"
        },
        "outputId": "cfcaf5d4-2cd3-4905-c241-3053d5ccb700"
      },
      "outputs": [
        {
          "output_type": "stream",
          "name": "stdout",
          "text": [
            "Enter second string: pw\n",
            "Your final string is: pw pw\n"
          ]
        }
      ],
      "source": [
        "#Q15 Write a code that uses a lambda function to concatenate two strings.\n",
        "concatenate_string = lambda x, y: str(x)+\" \"+str(y)\n",
        "str1 = input(\"Enter first string: \")\n",
        "str2 = input(\"Enter second string: \")\n",
        "result = concatenate_string(str1, str2)\n",
        "print(\"Your final string is:\", result)"
      ]
    },
    {
      "cell_type": "code",
      "execution_count": null,
      "metadata": {
        "id": "9i2GLVuU7C0U",
        "colab": {
          "base_uri": "https://localhost:8080/"
        },
        "outputId": "a18c0d77-5097-4205-f870-e9e7b702464b"
      },
      "outputs": [
        {
          "output_type": "stream",
          "name": "stdout",
          "text": [
            "Enter first number: 23\n",
            "Enter second number: 24\n",
            "Enter third number: 65\n",
            "The maximum of 23, 24, and 65 is 65.\n"
          ]
        }
      ],
      "source": [
        "# Q16. Write a code that uses a lambda function to find the maximum of three given numbers.\n",
        "# Lambda function to find the maximum of three numbers\n",
        "max_of_three = lambda x, y, z: max(x, y, z)\n",
        "\n",
        "# Usage:\n",
        "num1 = int(input(\"Enter first number: \"))\n",
        "num2 = int(input(\"Enter second number: \"))\n",
        "num3 = int(input(\"Enter third number: \"))\n",
        "result = max_of_three(num1, num2, num3)\n",
        "\n",
        "print(f\"The maximum of {num1}, {num2}, and {num3} is {result}.\")\n"
      ]
    },
    {
      "cell_type": "code",
      "execution_count": null,
      "metadata": {
        "id": "ImiGCDRH7G_l"
      },
      "outputs": [],
      "source": [
        "# Q17 Write a code that generates the squares of even numbers from a given list.\n",
        "def square_of_number(list):\n",
        "    square_list = []\n",
        "    for i in list:\n",
        "        if i%2==0:\n",
        "            square_list.append(i**2)\n",
        "    return square_list\n",
        "\n",
        "print(square_of_number([2,3,4,5,6]))\n"
      ]
    },
    {
      "cell_type": "code",
      "execution_count": null,
      "metadata": {
        "id": "lzrgFDQU7Jhn"
      },
      "outputs": [],
      "source": [
        "# Q17, ANS.\n",
        "# Given list of numbers\n",
        "numbers = [1, 2, 3, 4, 5, 6, 7, 8, 9, 10]\n",
        "\n",
        "# Using a list comprehension to generate squares of even numbers\n",
        "squares_of_even = [x**2 for x in numbers if x % 2 == 0]\n",
        "\n",
        "print(\"Squares of even numbers:\", squares_of_even)\n"
      ]
    },
    {
      "cell_type": "code",
      "execution_count": null,
      "metadata": {
        "id": "b3QSRm7y7ZPH"
      },
      "outputs": [],
      "source": [
        "# Q18 Write a code that calculates the product of positive numbers from a given list.\n",
        "\n",
        "def product_of_positive(lst):\n",
        "\n",
        "    a = 1\n",
        "    for i in lst:\n",
        "        if i > 0:\n",
        "            a = a*i\n",
        "            result = a\n",
        "    return result\n",
        "\n",
        "list1 = [1,2,3,-4,-6,-9]\n",
        "print(\"Your product of positive number is: \", product_of_positive(list1))\n"
      ]
    },
    {
      "cell_type": "code",
      "execution_count": null,
      "metadata": {
        "id": "FruhsNj67cQa"
      },
      "outputs": [],
      "source": [
        "# Q19 Write a code that doubles the values of odd numbers from a given list.\n",
        "numbers = [1,2,4,7,8]\n",
        "double_of_value = [x*2 for x in numbers if x%2 !=0]\n",
        "print(\"this is your dobules: \", double_of_value)"
      ]
    },
    {
      "cell_type": "code",
      "execution_count": null,
      "metadata": {
        "id": "tHwNUUic7fpQ"
      },
      "outputs": [],
      "source": [
        "# Q20 Write a code that calculates the sum of cubes of numbers from a given list.\n",
        "def sum_of_cube(lst):\n",
        "    a = 0\n",
        "    b = 0\n",
        "    for i in lst:\n",
        "        a = i**3\n",
        "        b = b+a\n",
        "        result = b\n",
        "    return result\n",
        "\n",
        "list1 = [1,2,3,4]\n",
        "print(\"the sum of cube of given list: \", sum_of_cube(list1))\n",
        "\n",
        "\n"
      ]
    },
    {
      "cell_type": "code",
      "execution_count": null,
      "metadata": {
        "id": "zBj6LX2J7h9Y"
      },
      "outputs": [],
      "source": [
        "#Q21 Write a code that filters out prime numbers from a given list.\n",
        "# Helper function to check if a number is prime\n",
        "def is_prime(num):\n",
        "    if num < 2:\n",
        "        return False\n",
        "    for i in range(2, int(num**0.5) + 1):\n",
        "        if num % i == 0:\n",
        "            return False\n",
        "    return True\n",
        "\n",
        "\n",
        "numbers = [1, 2, 3, 4, 5, 6, 7, 8, 9, 10, 11]\n",
        "\n",
        "\n",
        "primes = [num for num in numbers if is_prime(num)]\n",
        "\n",
        "print(\"Prime numbers from the list:\", primes)\n"
      ]
    },
    {
      "cell_type": "code",
      "execution_count": null,
      "metadata": {
        "id": "Q1dqNPhq7ofy"
      },
      "outputs": [],
      "source": [
        "# Q22. Write a code that uses a lambda function to calculate the sum of two numbers.\n",
        "# Using a lambda function to sum two numbers\n",
        "sum_of_two = lambda x, y: x + y\n",
        "\n",
        "# Usage:\n",
        "num1 = 5\n",
        "num2 = 7\n",
        "result = sum_of_two(num1, num2)\n",
        "\n",
        "print(f\"The sum of {num1} and {num2} is : {result}\")\n"
      ]
    },
    {
      "cell_type": "code",
      "execution_count": null,
      "metadata": {
        "id": "6rK72Um58f8U"
      },
      "outputs": [],
      "source": [
        "# Q23. Write a code that uses a lambda function to calculate the square of a given number.\n",
        "square_number = lambda x: x**2\n",
        "\n",
        "num1 = 5\n",
        "result = square_number(num1)\n",
        "print(\"The square of given number is:\", result)"
      ]
    },
    {
      "cell_type": "code",
      "execution_count": null,
      "metadata": {
        "id": "AKE5wzHF8qt2",
        "colab": {
          "base_uri": "https://localhost:8080/"
        },
        "outputId": "9853d8b4-f4ff-4b3b-b1c7-9bcca6ff04bb"
      },
      "outputs": [
        {
          "output_type": "stream",
          "name": "stdout",
          "text": [
            "enter a number for checking odd even: 7\n",
            "your number is:  ODD\n"
          ]
        }
      ],
      "source": [
        "# Q24 Write a code that uses a lambda function to check whether a given number is even or odd.\n",
        "check_even_odd = lambda x: \"EVEN\" if x%2 ==0 else \"ODD\"\n",
        "\n",
        "num1 = int(input(\"enter a number for checking odd even: \"))\n",
        "\n",
        "result = check_even_odd(num1)\n",
        "print(\"your number is: \", result)"
      ]
    },
    {
      "cell_type": "code",
      "source": [
        "#Q25 Write a code that uses a lambda function to concatenate two strings.\n",
        "concatenate_string = lambda x, y: str(x)+\" \"+str(y)\n",
        "str1 = input(\"Enter first string: \")\n",
        "str2 = input(\"Enter second string: \")\n",
        "result = concatenate_string(str1, str2)\n",
        "print(\"Your final string is:\", result)"
      ],
      "metadata": {
        "colab": {
          "base_uri": "https://localhost:8080/"
        },
        "id": "zuIwHwut90Mp",
        "outputId": "d837bbbd-138b-4726-e5a9-1478c6b1140d"
      },
      "execution_count": null,
      "outputs": [
        {
          "output_type": "stream",
          "name": "stdout",
          "text": [
            "Enter first string: pw\n",
            "Enter second string: skills\n",
            "Your final string is: pw skills\n"
          ]
        }
      ]
    },
    {
      "cell_type": "code",
      "source": [
        "# Q26. Write a code that uses a lambda function to find the maximum of three given numbers.\n",
        "# Lambda function to find the maximum of three numbers\n",
        "max_of_three = lambda x, y, z: max(x, y, z)\n",
        "\n",
        "# Usage:\n",
        "num1 = int(input(\"Enter first number: \"))\n",
        "num2 = int(input(\"Enter second number: \"))\n",
        "num3 = int(input(\"Enter third number: \"))\n",
        "result = max_of_three(num1, num2, num3)\n",
        "\n",
        "print(f\"The maximum of {num1}, {num2}, and {num3} is {result}.\")\n"
      ],
      "metadata": {
        "colab": {
          "base_uri": "https://localhost:8080/"
        },
        "id": "whpaeChB98aL",
        "outputId": "b3e8aea1-2e1d-41a8-9e9f-9c9f26c0b339"
      },
      "execution_count": null,
      "outputs": [
        {
          "output_type": "stream",
          "name": "stdout",
          "text": [
            "Enter first number: 7\n",
            "Enter second number: 9\n",
            "Enter third number: 5\n",
            "The maximum of 7, 9, and 5 is 9.\n"
          ]
        }
      ]
    },
    {
      "cell_type": "code",
      "source": [],
      "metadata": {
        "id": "m6dkErko-DJP"
      },
      "execution_count": null,
      "outputs": []
    },
    {
      "cell_type": "markdown",
      "source": [
        "**Q27** What is encapsulation in OOP?\n",
        "\n",
        "**Ans.** Encapsulation is one of the four fundamental principles of Object-Oriented Programming (OOP), alongside abstraction, inheritance, and polymorphism.\n",
        "It refers to the concept of bundling data (attributes) and the methods (functions) that operate on that data into a single unit or class,\n",
        "and restricting direct access to some of the object's components.\n",
        "\n",
        "**Key aspects of Encapsulation:**\n",
        "Data Hiding: Encapsulation involves hiding the internal state of an object from the outside world. The internal state of an object is protected, meaning it cannot be accessed directly from outside the class. Instead, it can only be modified or accessed through defined methods (often called getters and setters).\n",
        "\n",
        "**Access Modifiers:** Encapsulation is achieved through the use of access modifiers (or visibility keywords) that control how the data can be accessed. Common access modifiers include:\n",
        "\n",
        "Private (_variable or __variable in Python) – The variable is not directly accessible outside the class.\n",
        "Public (variable) – The variable is accessible from anywhere.\n",
        "Protected (_variable) – The variable is accessible within the class and by subclasses.\n",
        "**Control: **It allows the class to control how its data is accessed or modified. This ensures that data is always in a valid state by using getter and setter methods for validation or manipulation."
      ],
      "metadata": {
        "id": "y_hvOBih-YLJ"
      }
    },
    {
      "cell_type": "code",
      "source": [],
      "metadata": {
        "id": "a5wYtnAx-1xN"
      },
      "execution_count": null,
      "outputs": []
    },
    {
      "cell_type": "markdown",
      "source": [
        "**Q28.** Explain the use of access modifiers in Python classes.\n",
        "\n",
        "**Ans** In Python, access modifiers are used to control the visibility and accessibility of class attributes and methods.\n",
        "\n",
        "**1. Public Members (public)**\n",
        "Any attribute or method that does not have a special prefix is considered public.\n",
        "It can be accessed from anywhere, both inside and outside the class.\n",
        "\n",
        "**2. Protected Members (_protected)**\n",
        "Attributes and methods prefixed with a single underscore (_) are considered protected.\n",
        "This is a convention indicating that they should only be accessed within the class and its subclasses.\n",
        "However, they are not strictly private and can still be accessed from outside.\n",
        "\n",
        "**3. Private Members (__private)**\n",
        "Attributes and methods prefixed with a double underscore (__) are considered private.\n",
        "They undergo name mangling, meaning their actual names are modified internally to _ClassName__attribute, preventing direct access.\n",
        "They are intended to be used only within the class."
      ],
      "metadata": {
        "id": "rs-I5iG9-4xm"
      }
    },
    {
      "cell_type": "markdown",
      "source": [],
      "metadata": {
        "id": "jgaTDKZTABJW"
      }
    },
    {
      "cell_type": "markdown",
      "source": [
        "**Q29.** What is inheritance in OOP.\n",
        "\n",
        "**Ans.**Inheritance is one of the core principles of Object-Oriented Programming (OOP). It allows a class (called the child class or subclass) to inherit attributes and methods from another class (called the parent class or superclass). This helps in code reusability and hierarchical classification.\n",
        "\n",
        "**Types of Inheritance in Python**\n",
        "1. Single Inheritance\n",
        "2. Multiple Inheritance\n",
        "3. Multilevel Inheritance\n",
        "4. Hierarchical Inheritance\n",
        "5. Hybrid Inheritance"
      ],
      "metadata": {
        "id": "9KaPsGOkADqX"
      }
    },
    {
      "cell_type": "code",
      "source": [],
      "metadata": {
        "id": "IkZ-U4YXAvbg"
      },
      "execution_count": null,
      "outputs": []
    },
    {
      "cell_type": "markdown",
      "source": [
        "**Q30.**Define polymorphism in OOP.\n",
        "\n",
        "**Ans.** Polymorphism is a fundamental concept in Object-Oriented Programming (OOP) that allows objects of different classes to be treated as objects of a common superclass. It enables a single interface to be used with different underlying data types.\n",
        "\n",
        "The term polymorphism means \"many forms\", and it allows methods, functions, or operators to behave differently based on the object calling them."
      ],
      "metadata": {
        "id": "VizHbRCtAzlP"
      }
    },
    {
      "cell_type": "code",
      "source": [],
      "metadata": {
        "id": "rELTCbxfBMZf"
      },
      "execution_count": null,
      "outputs": []
    },
    {
      "cell_type": "markdown",
      "source": [
        "**Q31.**Explain method overriding in Python.\n",
        "\n",
        "**Ans.** Method overriding is a feature of object-oriented programming (OOP) that allows a subclass (child class) to provide a specific implementation of a method that is already defined in its superclass (parent class). The overridden method in the child class has the same name, return type, and parameters as the method in the parent class."
      ],
      "metadata": {
        "id": "uagO6bsNBRff"
      }
    },
    {
      "cell_type": "code",
      "source": [
        "class Parent:\n",
        "    def show(self):\n",
        "        print(\"This is the Parent class method.\")\n",
        "\n",
        "class Child(Parent):\n",
        "    def show(self):  # Overriding the Parent method\n",
        "        print(\"This is the Child class method.\")\n",
        "\n",
        "# Creating objects\n",
        "parent_obj = Parent()\n",
        "child_obj = Child()\n",
        "\n",
        "parent_obj.show()  # Calls the Parent class method\n",
        "child_obj.show()   # Calls the overridden Child class method\n"
      ],
      "metadata": {
        "colab": {
          "base_uri": "https://localhost:8080/"
        },
        "id": "bRzKAKvKBkOs",
        "outputId": "3c703f84-92c5-49d6-d7ea-0800fb299b1d"
      },
      "execution_count": null,
      "outputs": [
        {
          "output_type": "stream",
          "name": "stdout",
          "text": [
            "This is the Parent class method.\n",
            "This is the Child class method.\n"
          ]
        }
      ]
    },
    {
      "cell_type": "code",
      "source": [
        "#Q32. Define a parent class Animal with a method make_sound that prints \"Generic animal sound\". Create a\n",
        "# child class Dog inheriting from Animal with a method make_sound that prints \"Woof!\"\n",
        "class Animal:\n",
        "    def make_sound(self):\n",
        "        print(\"Generic animal sound\")\n",
        "\n",
        "class Dog(Animal):\n",
        "    def make_sound(self):\n",
        "        print(\"Woof!\")\n",
        "\n",
        "# Creating objects\n",
        "animal = Animal()\n",
        "dog = Dog()\n",
        "\n",
        "# Calling make_sound() method\n",
        "animal.make_sound()  # Output: Generic animal sound\n",
        "dog.make_sound()     # Output: Woof!\n"
      ],
      "metadata": {
        "colab": {
          "base_uri": "https://localhost:8080/"
        },
        "id": "gevHNuGOBucp",
        "outputId": "3369a906-c291-4294-8f8d-900a13694745"
      },
      "execution_count": null,
      "outputs": [
        {
          "output_type": "stream",
          "name": "stdout",
          "text": [
            "Generic animal sound\n",
            "Woof!\n"
          ]
        }
      ]
    },
    {
      "cell_type": "markdown",
      "source": [],
      "metadata": {
        "id": "AlA048IsBwad"
      }
    },
    {
      "cell_type": "code",
      "source": [
        "#Q33. Define a method move in the Animal class that prints \"Animal moves\". Override the move method in the\n",
        "# Dog class to print \"Dog runs\".\n",
        "class Animal:\n",
        "    def move(self):\n",
        "        print(\"Animal moves\")\n",
        "\n",
        "class Dog(Animal):\n",
        "    def move(self):\n",
        "        print(\"Dog runs\")\n",
        "\n",
        "# Creating objects\n",
        "animal = Animal()\n",
        "dog = Dog()\n",
        "\n",
        "# Calling move() method\n",
        "animal.move()  # Output: Animal moves\n",
        "dog.move()     # Output: Dog runs\n"
      ],
      "metadata": {
        "colab": {
          "base_uri": "https://localhost:8080/"
        },
        "id": "eVmI7pPpCwc0",
        "outputId": "057e30d7-5f6b-4f26-950f-913b631f5c97"
      },
      "execution_count": null,
      "outputs": [
        {
          "output_type": "stream",
          "name": "stdout",
          "text": [
            "Animal moves\n",
            "Dog runs\n"
          ]
        }
      ]
    },
    {
      "cell_type": "code",
      "source": [
        "# Q34. Create a class Mammal with a method reproduce that prints \"Giving birth to live young.\" Create a class\n",
        "# DogMammal inheriting from both Dog and Mammal.\n",
        "class Animal:\n",
        "    def move(self):\n",
        "        print(\"Animal moves\")\n",
        "\n",
        "class Dog(Animal):\n",
        "    def move(self):  # Overriding the parent class method\n",
        "        print(\"Dog runs\")\n",
        "\n",
        "class Mammal:\n",
        "    def reproduce(self):\n",
        "        print(\"Giving birth to live young.\")\n",
        "\n",
        "class DogMammal(Dog, Mammal):  # Multiple Inheritance\n",
        "    pass  # Inherits methods from both Dog and Mammal\n",
        "\n",
        "# Creating an object of DogMammal\n",
        "dog_mammal = DogMammal()\n",
        "\n",
        "# Calling inherited methods\n",
        "dog_mammal.move()\n"
      ],
      "metadata": {
        "colab": {
          "base_uri": "https://localhost:8080/"
        },
        "id": "LtQ6RrwLC7Vn",
        "outputId": "cc8ec496-7350-4926-c5b6-83944bc5cd42"
      },
      "execution_count": null,
      "outputs": [
        {
          "output_type": "stream",
          "name": "stdout",
          "text": [
            "Dog runs\n"
          ]
        }
      ]
    },
    {
      "cell_type": "code",
      "source": [
        "# Q35. Create a class GermanShepherd inheriting from Dog and override the make_sound method to print\n",
        "# \"Bark!\n",
        "class Animal:\n",
        "    def make_sound(self):\n",
        "        print(\"Generic animal sound\")\n",
        "\n",
        "class Dog(Animal):\n",
        "    def make_sound(self):\n",
        "        print(\"Woof!\")\n",
        "\n",
        "class GermanShepherd(Dog):\n",
        "    def make_sound(self):  # Overriding the Dog class method\n",
        "        print(\"Bark!\")\n",
        "\n",
        "# Creating objects\n",
        "dog = Dog()\n",
        "gs = GermanShepherd()\n",
        "\n",
        "# Calling make_sound() method\n",
        "dog.make_sound()  # Output: Woof!\n",
        "gs.make_sound()   # Output: Bark!\n"
      ],
      "metadata": {
        "colab": {
          "base_uri": "https://localhost:8080/"
        },
        "id": "TD6-OHQ_DTa_",
        "outputId": "f316d11e-8758-4911-8b34-af4da358f290"
      },
      "execution_count": null,
      "outputs": [
        {
          "output_type": "stream",
          "name": "stdout",
          "text": [
            "Woof!\n",
            "Bark!\n"
          ]
        }
      ]
    },
    {
      "cell_type": "code",
      "source": [
        "# Q36.  Define constructors in both the Animal and Dog classes with different initialization parameters.\n",
        "# Ans. Here's the Python implementation with constructors (__init__ methods) in both Animal and Dog classes,\n",
        "#  each having different initialization parameters\n",
        "class Animal:\n",
        "    def __init__(self, species):\n",
        "        self.species = species\n",
        "        print(f\"Animal constructor: Species is {self.species}\")\n",
        "\n",
        "class Dog(Animal):\n",
        "    def __init__(self, species, breed):\n",
        "        super().__init__(species)  # Calling Animal's constructor\n",
        "        self.breed = breed\n",
        "        print(f\"Dog constructor: Breed is {self.breed}\")\n",
        "\n",
        "# Creating an instance of Dog\n",
        "dog = Dog(\"Canine\", \"Labrador\")\n"
      ],
      "metadata": {
        "colab": {
          "base_uri": "https://localhost:8080/"
        },
        "id": "CCtwLNu_Df3I",
        "outputId": "ad3ea798-97b3-4f16-ed6f-33ee74acd7bd"
      },
      "execution_count": null,
      "outputs": [
        {
          "output_type": "stream",
          "name": "stdout",
          "text": [
            "Animal constructor: Species is Canine\n",
            "Dog constructor: Breed is Labrador\n"
          ]
        }
      ]
    },
    {
      "cell_type": "markdown",
      "source": [],
      "metadata": {
        "id": "pkdFD-T2rsww"
      }
    },
    {
      "cell_type": "markdown",
      "source": [
        " **Q37**. What is abstraction in Python? How is it implemented?\n",
        "\n",
        " **Ans.** Abstraction is one of the four fundamental principles of Object-Oriented Programming (OOP) (along with Encapsulation, Inheritance, and Polymorphism). It is the process of hiding implementation details from the user and only showing the essential features of an object.\n",
        "\n",
        " **Key Benefits of Abstraction**\n",
        "\n",
        "1. Hides unnecessary details and only exposes relevant information.\n",
        "2. Improves code reusability by defining abstract structures.\n",
        "3. Enhances security by preventing direct access to implementation details.\n",
        "4. Encourages modular programming, making the code easier to manage.\n"
      ],
      "metadata": {
        "id": "Crc8CFwurweR"
      }
    },
    {
      "cell_type": "code",
      "source": [
        "# 1. Using ABC (Abstract Base Class) and @abstractmethod\n",
        "# An abstract class is a class that cannot be instantiated directly.\n",
        "# It contains one or more abstract methods (methods that must be implemented by child classes).\n",
        "\n",
        "from abc import ABC, abstractmethod\n",
        "\n",
        "# Defining an Abstract Class\n",
        "class Animal(ABC):\n",
        "    @abstractmethod\n",
        "    def make_sound(self):  # Abstract method (must be overridden)\n",
        "        pass\n",
        "\n",
        "    def move(self):  # Concrete method (can be inherited)\n",
        "        print(\"This animal moves.\")\n",
        "\n",
        "# Concrete Class implementing the abstract method\n",
        "class Dog(Animal):\n",
        "    def make_sound(self):\n",
        "        print(\"Woof!\")\n",
        "\n",
        "class Cat(Animal):\n",
        "    def make_sound(self):\n",
        "        print(\"Meow!\")\n",
        "\n",
        "# dog = Animal()  # ❌ Error: Cannot instantiate an abstract class\n",
        "dog = Dog()\n",
        "cat = Cat()\n",
        "\n",
        "dog.make_sound()  # Output: Woof!\n",
        "dog.move()        # Output: This animal moves.\n",
        "cat.make_sound()  # Output: Meow!\n"
      ],
      "metadata": {
        "colab": {
          "base_uri": "https://localhost:8080/"
        },
        "id": "rk0bo2HMrUCE",
        "outputId": "91cf0bd7-300e-4dbf-f299-5aa7bf1b6e79"
      },
      "execution_count": null,
      "outputs": [
        {
          "output_type": "stream",
          "name": "stdout",
          "text": [
            "Woof!\n",
            "This animal moves.\n",
            "Meow!\n"
          ]
        }
      ]
    },
    {
      "cell_type": "code",
      "source": [],
      "metadata": {
        "id": "ZPVmWEIsstaU"
      },
      "execution_count": null,
      "outputs": []
    },
    {
      "cell_type": "markdown",
      "source": [
        "**Q38.**  Explain the importance of abstraction in object-oriented programming.\n",
        "\n",
        "**Ans.** Abstraction is a fundamental concept in Object-Oriented Programming (OOP) that allows developers to hide unnecessary details and expose only relevant functionalities. It helps in creating a clean and manageable code structure by focusing on what an object does rather than how it does it.\n",
        "\n",
        "**Key Benefits of Abstraction in OOP**\n",
        "1. Hides Complexity and Implementation Details\n",
        "2. Encourages Modularity and Code Reusability\n",
        "3. Supports Scalability and Maintainability\n",
        "4. Enhances Security by Restricting Access\n",
        "5. Promotes Loose Coupling in Software Design\n"
      ],
      "metadata": {
        "id": "3mcMPOpAs9ve"
      }
    },
    {
      "cell_type": "code",
      "source": [],
      "metadata": {
        "id": "c4VRSKpttr3M"
      },
      "execution_count": null,
      "outputs": []
    },
    {
      "cell_type": "markdown",
      "source": [
        "**Q39.** How are abstract methods different from regular methods in Python?\n",
        "\n",
        "**Ans.**  **Abstract Method**\n",
        "\n",
        "**1. Definition** - Declared in an abstract class but has no implementation.\n",
        "\n",
        "**2. Purpose**- Enforces that subclasses must implement the method.\n",
        "\n",
        "**3. Declared Using**- @abstractmethod decorator from abc module.\n",
        "\n",
        "**4.Implementation**-Must be implemented in a subclass.\n",
        "\n",
        "**5.Class Type**-Found in abstract classes (which inherit from ABC).\n",
        "\n",
        "**6.Object Instantiation**-Cannot be called directly (since abstract classes cannot be instantiated).\n",
        "\n",
        "**Regular Method**\n",
        "\n",
        "**1. Definition** - Fully defined and implemented inside a class.\n",
        "\n",
        "**2. Purpose**- Provides a complete functionality that can be used directly.\n",
        "\n",
        "**3. Declared Using**- Defined normally without any special decorators.\n",
        "\n",
        "**4.Implementation**-Already implemented and can be used as is.\n",
        "\n",
        "**5.Class Type**-Found in regular or abstract classes.\n",
        "\n",
        "**6.Object Instantiation**-Can be called directly on an instance of the class."
      ],
      "metadata": {
        "id": "8AOH2AP-ty9r"
      }
    },
    {
      "cell_type": "code",
      "source": [],
      "metadata": {
        "id": "-8wg8Assueb4"
      },
      "execution_count": null,
      "outputs": []
    },
    {
      "cell_type": "markdown",
      "source": [
        "**Q40.**How can you achieve abstraction using interfaces in Python?\n",
        "\n",
        "**Ans.**In Python, interfaces can be implemented using abstract classes with only abstract methods. Unlike Java, Python does not have a built-in interface keyword, but we can create interfaces using the ABC (Abstract Base Class) module.\n",
        "\n",
        "1. Python does not have a built-in interface keyword, but we achieve interfaces using abstract classes with only abstract methods.\n",
        "2. Interfaces help in achieving full abstraction by ensuring that subclasses must implement required methods.\n",
        "3. Multiple interfaces can be implemented using multiple inheritance, making the code more modular and flexible.\n"
      ],
      "metadata": {
        "id": "25FwFbuFwmAl"
      }
    },
    {
      "cell_type": "code",
      "source": [],
      "metadata": {
        "id": "cy9COwBrxndS"
      },
      "execution_count": null,
      "outputs": []
    },
    {
      "cell_type": "markdown",
      "source": [
        "**Q41.** Can you provide an example of how abstraction can be utilized to create a common interface for a group\n",
        "of related classes in Python?\n",
        "\n",
        "**Ans.**In Python, abstraction is achieved using abstract base classes (ABCs), which define a common interface for a group of related classes. This ensures that all subclasses implement specific methods, promoting consistency and reducing code duplication."
      ],
      "metadata": {
        "id": "9eTI8_Axyl4z"
      }
    },
    {
      "cell_type": "code",
      "source": [
        "from abc import ABC, abstractmethod\n",
        "\n",
        "# Abstract Base Class\n",
        "class PaymentProcessor(ABC):\n",
        "    @abstractmethod\n",
        "    def process_payment(self, amount):\n",
        "        \"\"\"Process the payment of the given amount.\"\"\"\n",
        "        pass\n",
        "\n",
        "# Concrete Class 1: Credit Card Payment\n",
        "class CreditCardPayment(PaymentProcessor):\n",
        "    def process_payment(self, amount):\n",
        "        print(f\"Processing credit card payment of ${amount}\")\n",
        "\n",
        "# Concrete Class 2: PayPal Payment\n",
        "class PayPalPayment(PaymentProcessor):\n",
        "    def process_payment(self, amount):\n",
        "        print(f\"Processing PayPal payment of ${amount}\")\n",
        "\n",
        "# Concrete Class 3: Bitcoin Payment\n",
        "class BitcoinPayment(PaymentProcessor):\n",
        "    def process_payment(self, amount):\n",
        "        print(f\"Processing Bitcoin payment of ${amount}\")\n",
        "\n",
        "# Usage\n",
        "def process_transaction(payment_method: PaymentProcessor, amount: float):\n",
        "    payment_method.process_payment(amount)\n",
        "\n",
        "# Creating instances of different payment methods\n",
        "credit_card = CreditCardPayment()\n",
        "paypal = PayPalPayment()\n",
        "bitcoin = BitcoinPayment()\n",
        "\n",
        "# Processing payments through the common interface\n",
        "process_transaction(credit_card, 100.00)\n",
        "process_transaction(paypal, 200.50)\n",
        "process_transaction(bitcoin, 0.05)\n"
      ],
      "metadata": {
        "colab": {
          "base_uri": "https://localhost:8080/"
        },
        "id": "M8LtwY97y1Dy",
        "outputId": "9a849115-8189-4935-c980-b50564f6b41d"
      },
      "execution_count": null,
      "outputs": [
        {
          "output_type": "stream",
          "name": "stdout",
          "text": [
            "Processing credit card payment of $100.0\n",
            "Processing PayPal payment of $200.5\n",
            "Processing Bitcoin payment of $0.05\n"
          ]
        }
      ]
    },
    {
      "cell_type": "code",
      "source": [],
      "metadata": {
        "id": "HfymiOUsy17d"
      },
      "execution_count": null,
      "outputs": []
    },
    {
      "cell_type": "markdown",
      "source": [
        "**Q42.** How does Python achieve polymorphism through method overriding.\n",
        "\n",
        "**Ans.** Python achieves polymorphism through method overriding, which allows a subclass to provide a specific implementation of a method that is already defined in its parent class. This enables different classes to be used interchangeably while following a common interface."
      ],
      "metadata": {
        "id": "ClNFWsYyzl2s"
      }
    },
    {
      "cell_type": "code",
      "source": [
        "# Parent Class\n",
        "class Animal:\n",
        "    def make_sound(self):\n",
        "        return \"Some generic sound\"\n",
        "\n",
        "# Child Class 1\n",
        "class Dog(Animal):\n",
        "    def make_sound(self):\n",
        "        return \"Bark\"\n",
        "\n",
        "# Child Class 2\n",
        "class Cat(Animal):\n",
        "    def make_sound(self):\n",
        "        return \"Meow\"\n",
        "\n",
        "# Child Class 3\n",
        "class Cow(Animal):\n",
        "    def make_sound(self):\n",
        "        return \"Moo\"\n",
        "\n",
        "# Function that accepts any Animal type\n",
        "def animal_sound(animal):\n",
        "    print(animal.make_sound())\n",
        "\n",
        "# Creating instances of different subclasses\n",
        "dog = Dog()\n",
        "cat = Cat()\n",
        "cow = Cow()\n",
        "\n",
        "# Using polymorphism: Each subclass overrides the make_sound method differently\n",
        "animal_sound(dog)  # Output: Bark\n",
        "animal_sound(cat)  # Output: Meow\n",
        "animal_sound(cow)  # Output: Moo\n"
      ],
      "metadata": {
        "colab": {
          "base_uri": "https://localhost:8080/"
        },
        "id": "GqUts5-1z1ay",
        "outputId": "cfde8499-5a0c-471c-aded-84db5762af36"
      },
      "execution_count": null,
      "outputs": [
        {
          "output_type": "stream",
          "name": "stdout",
          "text": [
            "Bark\n",
            "Meow\n",
            "Moo\n"
          ]
        }
      ]
    },
    {
      "cell_type": "code",
      "source": [],
      "metadata": {
        "id": "lcSbfONaz63e"
      },
      "execution_count": null,
      "outputs": []
    },
    {
      "cell_type": "markdown",
      "source": [
        "**Q43.** Define a base class with a method and a subclass that overrides the method.\n",
        "\n",
        "**Ans.** Below is an example of method overriding in Python using a base class and a subclass."
      ],
      "metadata": {
        "id": "7MH3-Dmv0Let"
      }
    },
    {
      "cell_type": "code",
      "source": [
        "# Base class\n",
        "class Vehicle:\n",
        "    def start_engine(self):\n",
        "        return \"Engine is starting...\"\n",
        "\n",
        "# Subclass overriding the method\n",
        "class Car(Vehicle):\n",
        "    def start_engine(self):\n",
        "        return \"Car engine is starting with a roar!\"\n",
        "\n",
        "# Creating instances\n",
        "vehicle = Vehicle()\n",
        "car = Car()\n",
        "\n",
        "# Calling the method\n",
        "print(vehicle.start_engine())  # Output: Engine is starting...\n",
        "print(car.start_engine())      # Output: Car engine is starting with a roar!\n"
      ],
      "metadata": {
        "colab": {
          "base_uri": "https://localhost:8080/"
        },
        "id": "n21GFzRU0qc1",
        "outputId": "489118a0-4e24-4f9f-fe44-f9b4b0f1e76b"
      },
      "execution_count": null,
      "outputs": [
        {
          "output_type": "stream",
          "name": "stdout",
          "text": [
            "Engine is starting...\n",
            "Car engine is starting with a roar!\n"
          ]
        }
      ]
    },
    {
      "cell_type": "markdown",
      "source": [
        "**Q44.** Define a base class and multiple subclasses with overridden methods.\n",
        "\n",
        "**Ans.**Below is an example where a base class has a method that is overridden by multiple subclasses, demonstrating method overriding and polymorphism."
      ],
      "metadata": {
        "id": "IuI6Nle506E5"
      }
    },
    {
      "cell_type": "code",
      "source": [
        "# Base Class\n",
        "class Animal:\n",
        "    def make_sound(self):\n",
        "        return \"Some generic sound\"\n",
        "\n",
        "# Subclass 1: Dog\n",
        "class Dog(Animal):\n",
        "    def make_sound(self):\n",
        "        return \"Bark\"\n",
        "\n",
        "# Subclass 2: Cat\n",
        "class Cat(Animal):\n",
        "    def make_sound(self):\n",
        "        return \"Meow\"\n",
        "\n",
        "# Subclass 3: Cow\n",
        "class Cow(Animal):\n",
        "    def make_sound(self):\n",
        "        return \"Moo\"\n",
        "\n",
        "# Function demonstrating polymorphism\n",
        "def animal_sound(animal):\n",
        "    print(animal.make_sound())\n",
        "\n",
        "# Creating instances of different subclasses\n",
        "dog = Dog()\n",
        "cat = Cat()\n",
        "cow = Cow()\n",
        "\n",
        "# Using polymorphism: Each subclass overrides the make_sound method differently\n",
        "animal_sound(dog)  # Output: Bark\n",
        "animal_sound(cat)  # Output: Meow\n",
        "animal_sound(cow)  # Output: Moo\n"
      ],
      "metadata": {
        "colab": {
          "base_uri": "https://localhost:8080/"
        },
        "id": "OhzHyosp0upX",
        "outputId": "64df3d7f-469c-4fe6-dd6e-0364f8f9623b"
      },
      "execution_count": null,
      "outputs": [
        {
          "output_type": "stream",
          "name": "stdout",
          "text": [
            "Bark\n",
            "Meow\n",
            "Moo\n"
          ]
        }
      ]
    },
    {
      "cell_type": "code",
      "source": [],
      "metadata": {
        "id": "8zucmm0q1K5Y"
      },
      "execution_count": null,
      "outputs": []
    },
    {
      "cell_type": "markdown",
      "source": [
        "**Q45.**  How does polymorphism improve code readability and reusability?\n",
        "\n",
        "**Ans.** Polymorphism allows objects of different classes to be treated as objects of a common superclass. This enhances code readability and reusability in the following ways:\n",
        "\n",
        "**1. Without Polymorphism (Code Duplication & Reduced Readability)**\n",
        "\n",
        "**issue:**\n",
        "\n",
        "Separate functions for each animal increase code duplication.\n",
        "\n",
        "If more animals are added, we need new functions, making the code harder to manage."
      ],
      "metadata": {
        "id": "MGITFdND4HCo"
      }
    },
    {
      "cell_type": "code",
      "source": [
        "# With Polymorphism (More Readable & Maintainable Code)\n",
        "class Animal:\n",
        "    def make_sound(self):\n",
        "        pass  # Abstract method\n",
        "\n",
        "class Dog(Animal):\n",
        "    def make_sound(self):\n",
        "        return \"Bark\"\n",
        "\n",
        "class Cat(Animal):\n",
        "    def make_sound(self):\n",
        "        return \"Meow\"\n",
        "\n",
        "# A single function for all animal types\n",
        "def play_with_animal(animal: Animal):\n",
        "    print(animal.make_sound())\n",
        "\n",
        "# Calling the function for different animals\n",
        "dog = Dog()\n",
        "cat = Cat()\n",
        "\n",
        "play_with_animal(dog)  # Output: Bark\n",
        "play_with_animal(cat)  # Output: Meow\n"
      ],
      "metadata": {
        "colab": {
          "base_uri": "https://localhost:8080/"
        },
        "id": "ehOON7g55C0M",
        "outputId": "d3325c07-9cba-4f02-ae24-57f93248b0b6"
      },
      "execution_count": null,
      "outputs": [
        {
          "output_type": "stream",
          "name": "stdout",
          "text": [
            "Bark\n",
            "Meow\n"
          ]
        }
      ]
    },
    {
      "cell_type": "code",
      "source": [],
      "metadata": {
        "id": "AE7Igmp26Pih"
      },
      "execution_count": null,
      "outputs": []
    },
    {
      "cell_type": "markdown",
      "source": [
        "**2. Enhances Code Reusability**\n",
        "\n",
        "**Issues:**\n",
        "\n",
        "A new function is required for every payment method.\n",
        "\n",
        "Code becomes hard to maintain."
      ],
      "metadata": {
        "id": "JsSDmgmx6YP9"
      }
    },
    {
      "cell_type": "code",
      "source": [
        "# With Polymorphism (More Reusable & Flexible Code)\n",
        "class PaymentProcessor:\n",
        "    def process_payment(self, amount):\n",
        "        pass  # Abstract method\n",
        "\n",
        "class CreditCard(PaymentProcessor):\n",
        "    def process_payment(self, amount):\n",
        "        print(f\"Processing credit card payment of ${amount}\")\n",
        "\n",
        "class PayPal(PaymentProcessor):\n",
        "    def process_payment(self, amount):\n",
        "        print(f\"Processing PayPal payment of ${amount}\")\n",
        "\n",
        "# A single function for all payment methods\n",
        "def process_transaction(payment: PaymentProcessor, amount: float):\n",
        "    payment.process_payment(amount)\n",
        "\n",
        "# Using the function with different payment types\n",
        "credit = CreditCard()\n",
        "paypal = PayPal()\n",
        "\n",
        "process_transaction(credit, 100)  # Output: Processing credit card payment of $100\n",
        "process_transaction(paypal, 200)  # Output: Processing PayPal payment of $200\n"
      ],
      "metadata": {
        "colab": {
          "base_uri": "https://localhost:8080/"
        },
        "id": "Z8jSLaFj6xPR",
        "outputId": "a722e44f-a5d7-4485-8f26-d0c810d801a6"
      },
      "execution_count": null,
      "outputs": [
        {
          "output_type": "stream",
          "name": "stdout",
          "text": [
            "Processing credit card payment of $100\n",
            "Processing PayPal payment of $200\n"
          ]
        }
      ]
    },
    {
      "cell_type": "markdown",
      "source": [
        "**Q46.**Describe how Python supports polymorphism with duck typing.\n",
        "**Ans.**In Python, duck typing is a concept that plays a crucial role in achieving polymorphism. The principle of duck typing is that if an object behaves like a certain type (has the necessary methods and properties), then it can be used as that type—regardless of the actual class it belongs to. This allows for flexible and dynamic code.\n",
        "\n",
        "The term \"duck typing\" comes from the saying, \"If it looks like a duck, swims like a duck, and quacks like a duck, it probably is a duck.\"\n",
        "\n",
        "In other words, Python doesn’t require objects to explicitly declare the type they are supposed to be. Instead, it relies on their behavior (i.e., whether they implement the necessary methods) to decide how they can be used."
      ],
      "metadata": {
        "id": "eRZooAZq7Btm"
      }
    },
    {
      "cell_type": "code",
      "source": [
        "# Class 1: Dog\n",
        "class Dog:\n",
        "    def speak(self):\n",
        "        return \"Woof!\"\n",
        "\n",
        "# Class 2: Cat\n",
        "class Cat:\n",
        "    def speak(self):\n",
        "        return \"Meow!\"\n",
        "\n",
        "# Class 3: Duck (In this case, it literally \"quacks\")\n",
        "class Duck:\n",
        "    def speak(self):\n",
        "        return \"Quack!\"\n",
        "\n",
        "# A function that expects any object with a `speak()` method\n",
        "def animal_sound(animal):\n",
        "    print(animal.speak())\n",
        "\n",
        "# Create instances of different classes\n",
        "dog = Dog()\n",
        "cat = Cat()\n",
        "duck = Duck()\n",
        "\n",
        "# Using duck typing: the function doesn't care about the type of animal,\n",
        "# just that it has a `speak()` method.\n",
        "animal_sound(dog)  # Output: Woof!\n",
        "animal_sound(cat)  # Output: Meow!\n",
        "animal_sound(duck) # Output: Quack!\n"
      ],
      "metadata": {
        "colab": {
          "base_uri": "https://localhost:8080/"
        },
        "id": "hQfCUY7U62yk",
        "outputId": "db8b7f5b-e92b-40f1-992f-350527b4c821"
      },
      "execution_count": null,
      "outputs": [
        {
          "output_type": "stream",
          "name": "stdout",
          "text": [
            "Woof!\n",
            "Meow!\n",
            "Quack!\n"
          ]
        }
      ]
    },
    {
      "cell_type": "code",
      "source": [],
      "metadata": {
        "id": "MSzkQ0x77lRI"
      },
      "execution_count": null,
      "outputs": []
    },
    {
      "cell_type": "markdown",
      "source": [
        "**Q47.** How do you achieve encapsulation in Python?\n",
        "\n",
        "**Ans.** Encapsulation is one of the key principles of object-oriented programming (OOP). It refers to the practice of bundling data (attributes) and the methods (functions) that operate on the data into a single unit (a class) and restricting direct access to some of the object's components. This is typically done to prevent unintended interference and to hide the internal details of the implementation.\n",
        "\n",
        "In Python, encapsulation is achieved using attributes (variables) and methods (functions) with access control. While Python doesn't have strict access modifiers like other languages (e.g., Java), you can use naming conventions to simulate the effect of encapsulation."
      ],
      "metadata": {
        "id": "w7ANfZxi7nHD"
      }
    },
    {
      "cell_type": "code",
      "source": [],
      "metadata": {
        "id": "3weqv0ro77UH"
      },
      "execution_count": null,
      "outputs": []
    },
    {
      "cell_type": "markdown",
      "source": [
        "**Q48.**  Can encapsulation be bypassed in Python? If so, how?\n",
        "\n",
        "**Ans.** Yes, encapsulation can be bypassed in Python, but it requires deliberate effort. Python's philosophy of \"we're all consenting adults here\" means that the language does not enforce strict access control like other languages (e.g., Java or C++) do. Instead, it relies on conventions (such as single and double underscores) to signal the intended access level for attributes and methods.\n",
        "\n",
        "Let’s go through how encapsulation can be bypassed in Python."
      ],
      "metadata": {
        "id": "sz5vfDZI8Ca7"
      }
    },
    {
      "cell_type": "code",
      "source": [
        "class Car:\n",
        "    def __init__(self, make, model):\n",
        "        self._make = make  # Protected attribute\n",
        "        self._model = model  # Protected attribute\n",
        "\n",
        "car = Car(\"Toyota\", \"Corolla\")\n",
        "\n",
        "# Even though '_make' is intended to be protected, we can access it directly.\n",
        "print(car._make)  # Output: Toyota\n"
      ],
      "metadata": {
        "colab": {
          "base_uri": "https://localhost:8080/"
        },
        "id": "lI7MkCrG8Y09",
        "outputId": "9358ce48-a109-464d-ad0f-5f943bab4100"
      },
      "execution_count": null,
      "outputs": [
        {
          "output_type": "stream",
          "name": "stdout",
          "text": [
            "Toyota\n"
          ]
        }
      ]
    },
    {
      "cell_type": "code",
      "source": [],
      "metadata": {
        "id": "Cmz72prM8ccc"
      },
      "execution_count": null,
      "outputs": []
    },
    {
      "cell_type": "markdown",
      "source": [
        "**Q49.**  Implement a class BankAccount with a private balance attribute. Include methods to deposit, withdraw,\n",
        "and check the balance.\n",
        "\n",
        "**Ans.**\n",
        "Here’s how you can implement a BankAccount class in Python with a private balance attribute. The class will include methods for deposit, withdraw, and check balance while maintaining encapsulation by keeping the balance private."
      ],
      "metadata": {
        "id": "Zss8rH8m8dH2"
      }
    },
    {
      "cell_type": "code",
      "source": [
        "class BankAccount:\n",
        "    def __init__(self, owner, initial_balance=0):\n",
        "        # Initialize the bank account with the owner's name and balance\n",
        "        self.owner = owner\n",
        "        self.__balance = initial_balance  # Private balance attribute\n",
        "\n",
        "    def deposit(self, amount):\n",
        "        \"\"\"Deposit money into the account.\"\"\"\n",
        "        if amount > 0:\n",
        "            self.__balance += amount\n",
        "            print(f\"Deposited ${amount}. New balance: ${self.__balance}\")\n",
        "        else:\n",
        "            print(\"Deposit amount must be positive.\")\n",
        "\n",
        "    def withdraw(self, amount):\n",
        "        \"\"\"Withdraw money from the account.\"\"\"\n",
        "        if 0 < amount <= self.__balance:\n",
        "            self.__balance -= amount\n",
        "            print(f\"Withdrew ${amount}. New balance: ${self.__balance}\")\n",
        "        else:\n",
        "            print(\"Invalid withdrawal amount or insufficient funds.\")\n",
        "\n",
        "    def check_balance(self):\n",
        "        \"\"\"Check the current balance of the account.\"\"\"\n",
        "        return f\"Current balance: ${self.__balance}\"\n",
        "\n",
        "# Example usage:\n",
        "account = BankAccount(\"John\", 1000)\n",
        "\n",
        "# Deposit some money\n",
        "account.deposit(500)  # Deposited $500. New balance: $1500\n",
        "\n",
        "# Withdraw money\n",
        "account.withdraw(300)  # Withdrew $300. New balance: $1200\n",
        "\n",
        "# Check balance\n",
        "print(account.check_balance())  # Output: Current balance: $1200\n",
        "\n",
        "# Attempting to withdraw more than the available balance\n",
        "account.withdraw(1500)  # Invalid withdrawal amount or insufficient funds.\n"
      ],
      "metadata": {
        "colab": {
          "base_uri": "https://localhost:8080/"
        },
        "id": "7EWtYElh9Dvd",
        "outputId": "0d1164c7-5da1-41bb-8f95-3edde8888401"
      },
      "execution_count": null,
      "outputs": [
        {
          "output_type": "stream",
          "name": "stdout",
          "text": [
            "Deposited $500. New balance: $1500\n",
            "Withdrew $300. New balance: $1200\n",
            "Current balance: $1200\n",
            "Invalid withdrawal amount or insufficient funds.\n"
          ]
        }
      ]
    },
    {
      "cell_type": "code",
      "source": [],
      "metadata": {
        "id": "0o5vwBw39F2H"
      },
      "execution_count": null,
      "outputs": []
    },
    {
      "cell_type": "markdown",
      "source": [
        "**Q50.** Develop a Person class with private attributes name and email, and methods to set and get the email.\n",
        "\n",
        "**Ans.** Here’s how you can implement a Person class in Python with private attributes name and email, and methods to set and get the email while ensuring encapsulation."
      ],
      "metadata": {
        "id": "9YMe9zHZ9NSB"
      }
    },
    {
      "cell_type": "code",
      "source": [
        "class Person:\n",
        "    def __init__(self, name, email):\n",
        "        self.name = name  # Public attribute\n",
        "        self.__email = email  # Private attribute\n",
        "\n",
        "    def set_email(self, email):\n",
        "        \"\"\"Set the email address.\"\"\"\n",
        "        # You can add validation to check if the email is in a correct format\n",
        "        if \"@\" in email and \".\" in email:\n",
        "            self.__email = email\n",
        "            print(f\"Email updated to: {self.__email}\")\n",
        "        else:\n",
        "            print(\"Invalid email format.\")\n",
        "\n",
        "    def get_email(self):\n",
        "        \"\"\"Get the email address.\"\"\"\n",
        "        return self.__email\n",
        "\n",
        "# Example usage:\n",
        "person = Person(\"John Doe\", \"john.doe@example.com\")\n",
        "\n",
        "# Accessing the email using the getter method\n",
        "print(person.get_email())  # Output: john.doe@example.com\n",
        "\n",
        "# Setting a new email using the setter method\n",
        "person.set_email(\"new.email@example.com\")  # Output: Email updated to: new.email@example.com\n",
        "\n",
        "# Attempting to set an invalid email\n",
        "person.set_email(\"invalidemail.com\")  # Output: Invalid email format.\n",
        "\n",
        "# Accessing the updated email using the getter method\n",
        "print(person.get_email())  # Output: new.email@example.com\n"
      ],
      "metadata": {
        "colab": {
          "base_uri": "https://localhost:8080/"
        },
        "id": "U8sicxLO9g0b",
        "outputId": "64e1813d-1a76-419e-8882-00267f2ad4bf"
      },
      "execution_count": null,
      "outputs": [
        {
          "output_type": "stream",
          "name": "stdout",
          "text": [
            "john.doe@example.com\n",
            "Email updated to: new.email@example.com\n",
            "Invalid email format.\n",
            "new.email@example.com\n"
          ]
        }
      ]
    },
    {
      "cell_type": "code",
      "source": [],
      "metadata": {
        "id": "g3C3jcBE9jnl"
      },
      "execution_count": null,
      "outputs": []
    },
    {
      "cell_type": "markdown",
      "source": [
        "**Q51** Why is encapsulation considered a pillar of object-oriented programming (OOP)?\n",
        "\n",
        "**Ans.**\n",
        "Encapsulation is one of the four pillars of Object-Oriented Programming (OOP), alongside Abstraction, Inheritance, and Polymorphism. It plays a critical role in organizing and managing data within an object and is considered fundamental to OOP for several key reasons:\n",
        "\n",
        "1. Protects data from unintended modifications, ensuring data integrity.\n",
        "2. Simplifies the interface by hiding complex internal logic.\n",
        "3. Promotes modularity and maintainability by allowing for independent, self-contained objects.\n",
        "4. Enhances reusability and flexibility in code by providing well-defined, adaptable components.\n",
        "5. Enforces validation to ensure business rules and security are followed.\n",
        "6. Supports the development of clean libraries and frameworks by encapsulating internal functionality."
      ],
      "metadata": {
        "id": "x2lYwEa-957c"
      }
    },
    {
      "cell_type": "code",
      "source": [],
      "metadata": {
        "id": "BCGYd_U8-mvj"
      },
      "execution_count": null,
      "outputs": []
    },
    {
      "cell_type": "markdown",
      "source": [
        "**Q52.** Create a decorator in Python that adds functionality to a simple function by printing a message before\n",
        "and after the function execution.\n",
        "\n",
        "**Ans.** You can create a Python decorator to add functionality to a function by printing a message before and after the function execution. Here's how you can do it:"
      ],
      "metadata": {
        "id": "U-L7SC_z-p9z"
      }
    },
    {
      "cell_type": "code",
      "source": [
        "def add_messages(func):\n",
        "    \"\"\"A decorator that adds a message before and after the function execution.\"\"\"\n",
        "    def wrapper(*args, **kwargs):\n",
        "        print(\"Before the function execution\")\n",
        "        result = func(*args, **kwargs)  # Call the original function\n",
        "        print(\"After the function execution\")\n",
        "        return result\n",
        "    return wrapper\n",
        "\n",
        "# Example function using the decorator\n",
        "@add_messages\n",
        "def say_hello(name):\n",
        "    print(f\"Hello, {name}!\")\n",
        "\n",
        "# Example usage:\n",
        "say_hello(\"John\")\n"
      ],
      "metadata": {
        "colab": {
          "base_uri": "https://localhost:8080/"
        },
        "id": "nkbw_8KS_Ai0",
        "outputId": "60f3a871-7a81-42ad-ee47-ae998e8a0d8f"
      },
      "execution_count": null,
      "outputs": [
        {
          "output_type": "stream",
          "name": "stdout",
          "text": [
            "Before the function execution\n",
            "Hello, John!\n",
            "After the function execution\n"
          ]
        }
      ]
    },
    {
      "cell_type": "code",
      "source": [],
      "metadata": {
        "id": "cEpK6ntr_CX6"
      },
      "execution_count": null,
      "outputs": []
    },
    {
      "cell_type": "markdown",
      "source": [
        "**Q53.**  Modify the decorator to accept arguments and print the function name along with the message.\n",
        "\n",
        "**Ans.** To modify the decorator so that it accepts arguments and prints the function name along with the message, you can pass the function name and additional arguments to the decorator. Here's how to do it:\n"
      ],
      "metadata": {
        "id": "wdR0oeHE_IIz"
      }
    },
    {
      "cell_type": "code",
      "source": [
        "def add_messages_with_args(func):\n",
        "    \"\"\"A decorator that adds a message with the function name before and after the function execution.\"\"\"\n",
        "    def wrapper(*args, **kwargs):\n",
        "        print(f\"Before calling function: {func.__name__}\")  # Print the function name\n",
        "        result = func(*args, **kwargs)  # Call the original function\n",
        "        print(f\"After calling function: {func.__name__}\")  # Print the function name\n",
        "        return result\n",
        "    return wrapper\n",
        "\n",
        "# Example function using the modified decorator\n",
        "@add_messages_with_args\n",
        "def say_hello(name):\n",
        "    print(f\"Hello, {name}!\")\n",
        "\n",
        "# Example usage:\n",
        "say_hello(\"John\")\n"
      ],
      "metadata": {
        "colab": {
          "base_uri": "https://localhost:8080/"
        },
        "id": "uk8bgO2X_V0b",
        "outputId": "99653d3d-b41c-4ac7-e190-025f6a60e3da"
      },
      "execution_count": null,
      "outputs": [
        {
          "output_type": "stream",
          "name": "stdout",
          "text": [
            "Before calling function: say_hello\n",
            "Hello, John!\n",
            "After calling function: say_hello\n"
          ]
        }
      ]
    },
    {
      "cell_type": "code",
      "source": [],
      "metadata": {
        "id": "ufHxMEUg_Xn9"
      },
      "execution_count": null,
      "outputs": []
    },
    {
      "cell_type": "markdown",
      "source": [
        "**Q54.**  Create two decorators, and apply them to a single function. Ensure that they execute in the order they are\n",
        "applied.\n",
        "\n",
        "**Ans.** You can create two decorators and apply them to a single function, ensuring that they execute in the order they are applied. Decorators in Python are applied from bottom to top, meaning that the decorator closest to the function definition is executed first."
      ],
      "metadata": {
        "id": "bEL3nu0m_bhW"
      }
    },
    {
      "cell_type": "code",
      "source": [
        "def greeting_decorator(func):\n",
        "    \"\"\"Decorator that prints a greeting message before the function execution.\"\"\"\n",
        "    def wrapper(*args, **kwargs):\n",
        "        print(\"Hello! Welcome to the function.\")\n",
        "        return func(*args, **kwargs)\n",
        "    return wrapper\n",
        "\n",
        "def farewell_decorator(func):\n",
        "    \"\"\"Decorator that prints a farewell message after the function execution.\"\"\"\n",
        "    def wrapper(*args, **kwargs):\n",
        "        result = func(*args, **kwargs)\n",
        "        print(\"Goodbye! Thanks for using the function.\")\n",
        "        return result\n",
        "    return wrapper\n",
        "\n",
        "# Applying both decorators to the same function\n",
        "@greeting_decorator\n",
        "@farewell_decorator\n",
        "def say_hello(name):\n",
        "    print(f\"Hello, {name}!\")\n",
        "\n",
        "# Example usage:\n",
        "say_hello(\"John\")\n"
      ],
      "metadata": {
        "colab": {
          "base_uri": "https://localhost:8080/"
        },
        "id": "OeDC8mo4_wdR",
        "outputId": "06fbbc48-2903-464e-b762-e4de658b0e0a"
      },
      "execution_count": null,
      "outputs": [
        {
          "output_type": "stream",
          "name": "stdout",
          "text": [
            "Hello! Welcome to the function.\n",
            "Hello, John!\n",
            "Goodbye! Thanks for using the function.\n"
          ]
        }
      ]
    },
    {
      "cell_type": "code",
      "source": [],
      "metadata": {
        "id": "sPtc1_KF_y1a"
      },
      "execution_count": null,
      "outputs": []
    },
    {
      "cell_type": "markdown",
      "source": [
        "**Q55.** Modify the decorator to accept and pass function arguments to the wrapped function.\n",
        "\n",
        "**Ans.** To modify a decorator so that it can accept and pass function arguments to the wrapped function, you need to ensure that the decorator is designed to take the arguments passed to the wrapped function. Here’s how you can modify a simple decorator to do this:"
      ],
      "metadata": {
        "id": "YGmEpnrt_4Fs"
      }
    },
    {
      "cell_type": "code",
      "source": [
        "def my_decorator(func):\n",
        "    def wrapper(*args, **kwargs):\n",
        "        # You can modify or print arguments here if needed\n",
        "        print(\"Before calling the function\")\n",
        "        result = func(*args, **kwargs)  # Call the wrapped function with the passed arguments\n",
        "        print(\"After calling the function\")\n",
        "        return result\n",
        "    return wrapper\n"
      ],
      "metadata": {
        "id": "rKEBurliAHue"
      },
      "execution_count": null,
      "outputs": []
    },
    {
      "cell_type": "code",
      "source": [],
      "metadata": {
        "id": "5zqUpXSMAJRP"
      },
      "execution_count": null,
      "outputs": []
    },
    {
      "cell_type": "markdown",
      "source": [
        "**Q56.** Create a decorator that preserves the metadata of the original function.\n",
        "\n",
        "**Ans.** To create a decorator that preserves the metadata (such as the function name, docstring, and other attributes) of the original function, you can use the functools.wraps utility from the functools module. The wraps function helps ensure that the wrapped function retains the original function's metadata.\n",
        "\n",
        "Here’s how you can create such a decorator:"
      ],
      "metadata": {
        "id": "1AHGfOIXAKMZ"
      }
    },
    {
      "cell_type": "code",
      "source": [
        "import functools\n",
        "\n",
        "def preserve_metadata(func):\n",
        "    @functools.wraps(func)  # This will preserve the metadata of `func`\n",
        "    def wrapper(*args, **kwargs):\n",
        "        print(\"Before calling the function\")\n",
        "        result = func(*args, **kwargs)\n",
        "        print(\"After calling the function\")\n",
        "        return result\n",
        "    return wrapper\n"
      ],
      "metadata": {
        "id": "N2EfjbY_AXwg"
      },
      "execution_count": null,
      "outputs": []
    },
    {
      "cell_type": "code",
      "source": [],
      "metadata": {
        "id": "SEH-2lNtAZii"
      },
      "execution_count": null,
      "outputs": []
    },
    {
      "cell_type": "markdown",
      "source": [
        "**Q57.** Create a Python class `Calculator` with a static method `add` that takes in two numbers and returns their\n",
        "sum.\n",
        "\n",
        "**Ans.** Here is how you can create a Python class Calculator with a static method add that takes two numbers and returns their sum:"
      ],
      "metadata": {
        "id": "k6bEjOMDAccy"
      }
    },
    {
      "cell_type": "code",
      "source": [
        "class Calculator:\n",
        "    @staticmethod\n",
        "    def add(a, b):\n",
        "        return a + b\n"
      ],
      "metadata": {
        "id": "9C7Z5aL9Atyz"
      },
      "execution_count": null,
      "outputs": []
    },
    {
      "cell_type": "code",
      "source": [],
      "metadata": {
        "id": "XTAvh8BCAvdL"
      },
      "execution_count": null,
      "outputs": []
    },
    {
      "cell_type": "markdown",
      "source": [
        "**Q58.** Create a Python class `Employee` with a class `method get_employee_count` that returns the total\n",
        "number of employees created.\n",
        "\n",
        "**Ans.** To create a class Employee with a class method get_employee_count that returns the total number of employees created, you can keep track of the number of instances created using a class variable. The class method will access this variable to return the total count of employees.\n",
        "\n",
        "Here’s the implementation:"
      ],
      "metadata": {
        "id": "ZWJSgvJtA9Az"
      }
    },
    {
      "cell_type": "code",
      "source": [
        "class Employee:\n",
        "    # Class variable to keep track of the total employee count\n",
        "    employee_count = 0\n",
        "\n",
        "    def __init__(self, name, position):\n",
        "        self.name = name\n",
        "        self.position = position\n",
        "        # Increment the employee count each time a new employee is created\n",
        "        Employee.employee_count += 1\n",
        "\n",
        "    @classmethod\n",
        "    def get_employee_count(cls):\n",
        "        # Return the total number of employees\n",
        "        return cls.employee_count\n"
      ],
      "metadata": {
        "id": "-ayB5pcCBLfv"
      },
      "execution_count": null,
      "outputs": []
    },
    {
      "cell_type": "code",
      "source": [],
      "metadata": {
        "id": "HKGkzaFdBNr0"
      },
      "execution_count": null,
      "outputs": []
    },
    {
      "cell_type": "markdown",
      "source": [
        "**Q59.** Create a Python class `StringFormatter` with a static method `reverse_string` that takes a string as input\n",
        "and returns its reverse.\n",
        "\n",
        "**Ans.** Here is how you can create a Python class StringFormatter with a static method reverse_string that takes a string as input and returns its reverse:"
      ],
      "metadata": {
        "id": "4lzIgr-PBPv5"
      }
    },
    {
      "cell_type": "code",
      "source": [
        "class StringFormatter:\n",
        "    @staticmethod\n",
        "    def reverse_string(input_string):\n",
        "        return input_string[::-1]\n"
      ],
      "metadata": {
        "id": "p1rIafceBeNg"
      },
      "execution_count": null,
      "outputs": []
    },
    {
      "cell_type": "code",
      "source": [],
      "metadata": {
        "id": "FuDphqeTBgDZ"
      },
      "execution_count": null,
      "outputs": []
    },
    {
      "cell_type": "markdown",
      "source": [
        "**Q60.** Create a Python class `Circle` with a class method `calculate_area` that calculates the area of a circle\n",
        "given its radius.\n",
        "\n",
        "**Ans.**\n",
        "Here’s how you can create a Python class Circle with a class method calculate_area that calculates the area of a circle given its radius:"
      ],
      "metadata": {
        "id": "QpEMKmPxBg7k"
      }
    },
    {
      "cell_type": "code",
      "source": [
        "import math\n",
        "\n",
        "class Circle:\n",
        "    @classmethod\n",
        "    def calculate_area(cls, radius):\n",
        "        return math.pi * radius ** 2\n"
      ],
      "metadata": {
        "id": "-U0JfZwbBvL3"
      },
      "execution_count": null,
      "outputs": []
    },
    {
      "cell_type": "code",
      "source": [],
      "metadata": {
        "id": "o7Pn8cB3BxQr"
      },
      "execution_count": null,
      "outputs": []
    },
    {
      "cell_type": "markdown",
      "source": [
        "**Q61.** Create a Python class `TemperatureConverter` with a static method `celsius_to_fahrenheit` that converts\n",
        "Celsius to Fahrenheit.\n",
        "\n",
        "**Ans.** Here’s how you can create a Python class TemperatureConverter with a static method celsius_to_fahrenheit that converts Celsius to Fahrenheit:"
      ],
      "metadata": {
        "id": "3YduGfWEBysl"
      }
    },
    {
      "cell_type": "code",
      "source": [
        "class TemperatureConverter:\n",
        "    @staticmethod\n",
        "    def celsius_to_fahrenheit(celsius):\n",
        "        return (celsius * 9/5) + 32\n"
      ],
      "metadata": {
        "id": "WKCGxi-aB_jQ"
      },
      "execution_count": null,
      "outputs": []
    },
    {
      "cell_type": "code",
      "source": [],
      "metadata": {
        "id": "n5yTzNUrCBbD"
      },
      "execution_count": null,
      "outputs": []
    },
    {
      "cell_type": "markdown",
      "source": [
        "**Q62.**  What is the purpose of the __str__() method in Python classes? Provide an example.\n",
        "\n",
        "**Ans.** The __str__() method in Python classes is used to define a string representation of an object. This method is called when you use print() or str() on an object, and it returns a human-readable string that describes the object.\n",
        "\n",
        "If the __str__() method is not defined in a class, the default string representation will be something like <__main__.ClassName object at memory_address>, which is not very user-friendly.\n",
        "\n",
        "By overriding __str__(), you can return a more meaningful and descriptive string for the object."
      ],
      "metadata": {
        "id": "nuB32NI7CCit"
      }
    },
    {
      "cell_type": "code",
      "source": [
        "class Person:\n",
        "    def __init__(self, name, age):\n",
        "        self.name = name\n",
        "        self.age = age\n",
        "\n",
        "    def __str__(self):\n",
        "        return f\"Person(Name: {self.name}, Age: {self.age})\"\n",
        "\n",
        "# Creating an instance of the Person class\n",
        "person = Person(\"Alice\", 30)\n",
        "\n",
        "# Using print() or str() to get the string representation of the object\n",
        "print(person)  # Outputs: Person(Name: Alice, Age: 30)\n"
      ],
      "metadata": {
        "colab": {
          "base_uri": "https://localhost:8080/"
        },
        "id": "O1HxMAkGCUv1",
        "outputId": "c8b1e275-5bad-4f40-8764-af49e6558ddd"
      },
      "execution_count": null,
      "outputs": [
        {
          "output_type": "stream",
          "name": "stdout",
          "text": [
            "Person(Name: Alice, Age: 30)\n"
          ]
        }
      ]
    },
    {
      "cell_type": "code",
      "source": [],
      "metadata": {
        "id": "54IlpjBZCXI2"
      },
      "execution_count": null,
      "outputs": []
    },
    {
      "cell_type": "markdown",
      "source": [
        "**Q63.** How does the __len__() method work in Python? Provide an example.\n",
        "\n",
        "**Ans.** The __len__() method in Python is used to define the behavior of the len() function when it is called on an object. By implementing this method in a class, you allow instances of the class to return a meaningful length value, similar to how len() works with built-in data structures like lists, strings, and dictionaries.\n",
        "\n",
        "The __len__() method must return an integer that represents the \"length\" of the object, which can be any concept of size or quantity (e.g., the number of items, the size of a container, etc.)."
      ],
      "metadata": {
        "id": "lXpLvQPaCg5Q"
      }
    },
    {
      "cell_type": "code",
      "source": [
        "class Box:\n",
        "    def __init__(self, items):\n",
        "        self.items = items\n",
        "\n",
        "    def __len__(self):\n",
        "        return len(self.items)  # Return the number of items in the box\n",
        "\n",
        "# Creating an instance of the Box class\n",
        "box = Box([\"apple\", \"banana\", \"cherry\"])\n",
        "\n",
        "# Using len() to get the \"length\" of the box\n",
        "print(len(box))  # Outputs: 3 (the number of items in the box)\n"
      ],
      "metadata": {
        "colab": {
          "base_uri": "https://localhost:8080/"
        },
        "id": "e6ucDOMpCuMR",
        "outputId": "6287139d-5259-4f2c-f3e2-aef862ac0061"
      },
      "execution_count": null,
      "outputs": [
        {
          "output_type": "stream",
          "name": "stdout",
          "text": [
            "3\n"
          ]
        }
      ]
    },
    {
      "cell_type": "code",
      "source": [],
      "metadata": {
        "id": "wI8WyDcqCwVX"
      },
      "execution_count": null,
      "outputs": []
    },
    {
      "cell_type": "markdown",
      "source": [
        "**Q64.** Explain the usage of the __add__() method in Python classes. Provide an example.\n",
        "\n",
        "**Ans.** The __add__() method in Python is used to define the behavior of the + operator for instances of a class. When you use the + operator to add two objects of a class, Python internally calls the __add__() method to determine how the objects should be added together.\n",
        "\n",
        "This method allows you to specify how two instances of your class should behave when added, such as combining values, merging objects, or performing arithmetic operations."
      ],
      "metadata": {
        "id": "3fJpx7xMCxPM"
      }
    },
    {
      "cell_type": "code",
      "source": [
        "class Vector:\n",
        "    def __init__(self, x, y):\n",
        "        self.x = x\n",
        "        self.y = y\n",
        "\n",
        "    def __add__(self, other):\n",
        "        if isinstance(other, Vector):\n",
        "            return Vector(self.x + other.x, self.y + other.y)\n",
        "        return NotImplemented\n",
        "\n",
        "    def __str__(self):\n",
        "        return f\"Vector({self.x}, {self.y})\"\n",
        "\n",
        "# Creating two Vector objects\n",
        "v1 = Vector(2, 3)\n",
        "v2 = Vector(4, 1)\n",
        "\n",
        "# Adding the two vectors using the + operator\n",
        "result = v1 + v2\n",
        "\n",
        "print(result)  # Outputs: Vector(6, 4)\n"
      ],
      "metadata": {
        "colab": {
          "base_uri": "https://localhost:8080/"
        },
        "id": "qxh3G0JcC-dC",
        "outputId": "a8efb830-40b0-4f3e-ce81-1483ab86d4c9"
      },
      "execution_count": null,
      "outputs": [
        {
          "output_type": "stream",
          "name": "stdout",
          "text": [
            "Vector(6, 4)\n"
          ]
        }
      ]
    },
    {
      "cell_type": "code",
      "source": [],
      "metadata": {
        "id": "4HvAq49XDA0t"
      },
      "execution_count": null,
      "outputs": []
    },
    {
      "cell_type": "markdown",
      "source": [
        "**Q65.** What is the purpose of the __getitem__() method in Python? Provide an example.\n",
        "\n",
        "**Ans.** The __getitem__() method in Python is used to define how an object behaves when an element is accessed using square brackets ([]). It allows you to customize the behavior of indexing, similar to how you access elements in built-in collections like lists or dictionaries.\n",
        "\n",
        "When you implement the __getitem__() method in your class, you can control how your objects handle indexing and return values based on the provided index or key."
      ],
      "metadata": {
        "id": "bBagPtmPDBdX"
      }
    },
    {
      "cell_type": "code",
      "source": [
        "class Book:\n",
        "    def __init__(self, title, chapters):\n",
        "        self.title = title\n",
        "        self.chapters = chapters\n",
        "\n",
        "    def __getitem__(self, index):\n",
        "        return self.chapters[index]\n",
        "\n",
        "# Creating an instance of the Book class\n",
        "book = Book(\"Python Programming\", [\"Introduction\", \"Data Types\", \"Control Flow\", \"Functions\"])\n",
        "\n",
        "# Accessing chapters using the index\n",
        "print(book[0])  # Outputs: Introduction\n",
        "print(book[2])  # Outputs: Control Flow\n"
      ],
      "metadata": {
        "colab": {
          "base_uri": "https://localhost:8080/"
        },
        "id": "7W6wXX9oDNsP",
        "outputId": "c5bb7e6c-0467-4d0b-eeef-13fa00bf3a1a"
      },
      "execution_count": null,
      "outputs": [
        {
          "output_type": "stream",
          "name": "stdout",
          "text": [
            "Introduction\n",
            "Control Flow\n"
          ]
        }
      ]
    },
    {
      "cell_type": "code",
      "source": [],
      "metadata": {
        "id": "HgZsS6vFDPkr"
      },
      "execution_count": null,
      "outputs": []
    },
    {
      "cell_type": "markdown",
      "source": [
        "**Q66.** Explain the usage of the __iter__() and __next__() methods in Python. Provide an example using\n",
        "iterators.\n",
        "\n",
        "**Ans.** The __iter__() and __next__() methods are fundamental components for creating custom iterators in Python. They allow an object to be iterated over in a loop, such as with a for loop or when using the next() function.\n",
        "\n",
        "**Key Concepts:**\n",
        "\n",
        "__iter__() is responsible for returning the iterator object itself. This method is required to make an object iterable. It initializes the iteration and prepares the object for iteration.\n",
        "__next__() is used to retrieve the next item from the iterator. If there are no more items, it raises a StopIteration exception to signal that the iteration is complete."
      ],
      "metadata": {
        "id": "RN0FtpolDQ-h"
      }
    },
    {
      "cell_type": "code",
      "source": [
        "class NumberRange:\n",
        "    def __init__(self, start, end):\n",
        "        self.start = start\n",
        "        self.end = end\n",
        "        self.current = start  # Initialize the current value\n",
        "\n",
        "    def __iter__(self):\n",
        "        # The iterator itself is the object, so return `self`\n",
        "        return self\n",
        "\n",
        "    def __next__(self):\n",
        "        if self.current < self.end:\n",
        "            current_value = self.current\n",
        "            self.current += 1\n",
        "            return current_value\n",
        "        else:\n",
        "            raise StopIteration  # Signal that the iteration is complete\n",
        "\n",
        "# Creating an instance of the iterator\n",
        "num_range = NumberRange(1, 5)\n",
        "\n",
        "# Using the iterator in a for loop\n",
        "for num in num_range:\n",
        "    print(num)\n"
      ],
      "metadata": {
        "colab": {
          "base_uri": "https://localhost:8080/"
        },
        "id": "CPocaSAgD8Xj",
        "outputId": "d435fe37-f611-44d1-fa33-51fcdd0e7213"
      },
      "execution_count": null,
      "outputs": [
        {
          "output_type": "stream",
          "name": "stdout",
          "text": [
            "1\n",
            "2\n",
            "3\n",
            "4\n"
          ]
        }
      ]
    },
    {
      "cell_type": "code",
      "source": [],
      "metadata": {
        "id": "mbn6D7IPD-mI"
      },
      "execution_count": null,
      "outputs": []
    },
    {
      "cell_type": "markdown",
      "source": [
        "**Q67.** What is the purpose of a getter method in Python? Provide an example demonstrating the use of a getter\n",
        "method using property decorators.\n",
        "\n",
        "**Ans.** In Python, a getter method is used to access the value of an object's attribute, typically when you want to encapsulate the internal state of an object and control how its attributes are accessed or modified. A getter method provides a way to retrieve an attribute value in a controlled manner, often adding logic such as validation or computation.\n",
        "\n",
        "Using the @property decorator in Python, you can create a getter method without needing to call the method explicitly like a regular function. This makes the method behave like an attribute, simplifying access while still allowing the underlying logic to be applied.\n",
        "\n",
        "**Purpose of a Getter Method:**\n",
        "\n",
        "**1. Encapsulation:** To hide internal details and prevent direct access to object attributes.\n",
        "\n",
        "**2. Controlled Access:** To add logic for getting an attribute (e.g., calculations, validation) while still accessing it like a regular attribute.\n",
        "\n",
        "**3. Improved Readability:** It allows attributes to be accessed as if they were simple variables, but with the added flexibility of methods behind the scenes."
      ],
      "metadata": {
        "id": "E-WztVpUEDMq"
      }
    },
    {
      "cell_type": "code",
      "source": [
        "class Rectangle:\n",
        "    def __init__(self, width, height):\n",
        "        self._width = width  # Private attribute with leading underscore\n",
        "        self._height = height  # Private attribute with leading underscore\n",
        "\n",
        "    @property\n",
        "    def area(self):\n",
        "        \"\"\"Getter method to calculate the area of the rectangle.\"\"\"\n",
        "        return self._width * self._height\n",
        "\n",
        "    @property\n",
        "    def width(self):\n",
        "        return self._width\n",
        "\n",
        "    @width.setter\n",
        "    def width(self, value):\n",
        "        if value <= 0:\n",
        "            raise ValueError(\"Width must be positive\")\n",
        "        self._width = value\n",
        "\n",
        "    @property\n",
        "    def height(self):\n",
        "        return self._height\n",
        "\n",
        "    @height.setter\n",
        "    def height(self, value):\n",
        "        if value <= 0:\n",
        "            raise ValueError(\"Height must be positive\")\n",
        "        self._height = value\n",
        "\n",
        "\n",
        "# Create an instance of Rectangle\n",
        "rect = Rectangle(5, 3)\n",
        "\n",
        "# Accessing the area using the getter method\n",
        "print(f\"Area of the rectangle: {rect.area}\")  # Outputs: 15\n",
        "\n",
        "# Modifying the width and height using setters\n",
        "rect.width = 6\n",
        "rect.height = 4\n",
        "\n",
        "# Accessing the updated area\n",
        "print(f\"Updated area of the rectangle: {rect.area}\")  # Outputs: 24\n"
      ],
      "metadata": {
        "colab": {
          "base_uri": "https://localhost:8080/"
        },
        "id": "UX-yjDFmEwSw",
        "outputId": "3a2de3f7-132c-4b4d-a9c8-65e9aadbfc69"
      },
      "execution_count": null,
      "outputs": [
        {
          "output_type": "stream",
          "name": "stdout",
          "text": [
            "Area of the rectangle: 15\n",
            "Updated area of the rectangle: 24\n"
          ]
        }
      ]
    },
    {
      "cell_type": "code",
      "source": [],
      "metadata": {
        "id": "IiOESoQIE0qt"
      },
      "execution_count": null,
      "outputs": []
    },
    {
      "cell_type": "markdown",
      "source": [
        "**Q68.**  Explain the role of setter methods in Python. Demonstrate how to use a setter method to modify a class\n",
        "attribute using property decorators.\n",
        "\n",
        "**Ans.** In Python, setter methods are used to set or modify the value of an object's attribute in a controlled manner. The purpose of a setter is to encapsulate the process of modifying an attribute, allowing you to include validation, type checking, or any other logic needed when setting the attribute's value.\n",
        "\n",
        "Using the @property decorator along with the @<property_name>.setter decorator, you can define setter methods in a Python class. This combination provides a way to manage the value of an attribute while still allowing it to be accessed and modified using simple attribute syntax (i.e., without explicitly calling a method).\n",
        "\n",
        "**Role of Setter Methods:**\n",
        "\n",
        "**1. Encapsulation:** Allows control over how an attribute's value is modified.\n",
        "\n",
        "**2. Validation:** You can enforce rules such as ensuring the attribute is within a valid range or meets certain conditions.\n",
        "\n",
        "**3. Flexibility:** Setter methods give you the ability to add additional logic during the assignment of an attribute without changing the external interface."
      ],
      "metadata": {
        "id": "5o3ATWi_E2dv"
      }
    },
    {
      "cell_type": "code",
      "source": [
        "class Circle:\n",
        "    def __init__(self, radius):\n",
        "        self._radius = radius  # Private attribute with leading underscore\n",
        "\n",
        "    @property\n",
        "    def radius(self):\n",
        "        \"\"\"Getter method to retrieve the radius.\"\"\"\n",
        "        return self._radius\n",
        "\n",
        "    @radius.setter\n",
        "    def radius(self, value):\n",
        "        \"\"\"Setter method to modify the radius and ensure it's positive.\"\"\"\n",
        "        if value <= 0:\n",
        "            raise ValueError(\"Radius must be positive\")\n",
        "        self._radius = value\n",
        "\n",
        "    @property\n",
        "    def area(self):\n",
        "        \"\"\"Getter method to calculate the area of the circle.\"\"\"\n",
        "        return 3.14159 * self._radius ** 2\n",
        "\n",
        "# Create an instance of Circle\n",
        "circle = Circle(5)\n",
        "\n",
        "# Accessing the radius using the getter\n",
        "print(f\"Radius: {circle.radius}\")  # Outputs: Radius: 5\n",
        "\n",
        "# Accessing the area using the getter\n",
        "print(f\"Area: {circle.area}\")  # Outputs: Area: 78.53975\n",
        "\n",
        "# Modifying the radius using the setter\n",
        "circle.radius = 10\n",
        "print(f\"Updated Radius: {circle.radius}\")  # Outputs: Updated Radius: 10\n",
        "\n",
        "# Accessing the updated area\n",
        "print(f\"Updated Area: {circle.area}\")  # Outputs: Updated Area: 314.159\n"
      ],
      "metadata": {
        "colab": {
          "base_uri": "https://localhost:8080/"
        },
        "id": "q_VzOcQoFatl",
        "outputId": "3817f04b-4374-4d60-b684-aebe2e132f4f"
      },
      "execution_count": null,
      "outputs": [
        {
          "output_type": "stream",
          "name": "stdout",
          "text": [
            "Radius: 5\n",
            "Area: 78.53975\n",
            "Updated Radius: 10\n",
            "Updated Area: 314.159\n"
          ]
        }
      ]
    },
    {
      "cell_type": "code",
      "source": [],
      "metadata": {
        "id": "y-39a6jvFbUT"
      },
      "execution_count": null,
      "outputs": []
    },
    {
      "cell_type": "markdown",
      "source": [
        "**Q69.**  What is the purpose of the @property decorator in Python? Provide an example illustrating its usage.\n",
        "\n",
        "**Ans.** The @property decorator in Python is used to define a method that behaves like an attribute. It allows you to create a getter for a property without explicitly calling the method, which provides a cleaner and more intuitive interface to access the attribute. The @property decorator is often used to implement \"computed\" attributes, where the value of the attribute is derived from other instance data or involves some logic when accessed.\n",
        "\n",
        "**Purpose of @property:**\n",
        "\n",
        "**1. Encapsulation:** You can control access to attributes while presenting them as regular attributes.\n",
        "\n",
        "**2. Computed Attributes:** You can define attributes that are dynamically computed based on other data or state in the object.\n",
        "\n",
        "**3. Read-Only Properties**: It allows you to make an attribute read-only, preventing direct modification but still providing access."
      ],
      "metadata": {
        "id": "hn3Ef6hUFfec"
      }
    },
    {
      "cell_type": "code",
      "source": [
        "class Rectangle:\n",
        "    def __init__(self, width, height):\n",
        "        self._width = width  # Private attribute with leading underscore\n",
        "        self._height = height  # Private attribute with leading underscore\n",
        "\n",
        "    @property\n",
        "    def width(self):\n",
        "        return self._width\n",
        "\n",
        "    @width.setter\n",
        "    def width(self, value):\n",
        "        if value <= 0:\n",
        "            raise ValueError(\"Width must be positive\")\n",
        "        self._width = value\n",
        "\n",
        "    @property\n",
        "    def height(self):\n",
        "        return self._height\n",
        "\n",
        "    @height.setter\n",
        "    def height(self, value):\n",
        "        if value <= 0:\n",
        "            raise ValueError(\"Height must be positive\")\n",
        "        self._height = value\n",
        "\n",
        "    @property\n",
        "    def area(self):\n",
        "        \"\"\"Getter method to calculate the area of the rectangle.\"\"\"\n",
        "        return self._width * self._height\n",
        "\n",
        "# Create an instance of Rectangle\n",
        "rect = Rectangle(5, 3)\n",
        "\n",
        "# Accessing the width and height using the getters\n",
        "print(f\"Width: {rect.width}\")  # Outputs: Width: 5\n",
        "print(f\"Height: {rect.height}\")  # Outputs: Height: 3\n",
        "\n",
        "# Accessing the area, which is computed dynamically using the @property\n",
        "print(f\"Area: {rect.area}\")  # Outputs: Area: 15\n",
        "\n",
        "# Modifying the width and height using setters\n",
        "rect.width = 6\n",
        "rect.height = 4\n",
        "\n",
        "# Accessing the updated area\n",
        "print(f\"Updated Area: {rect.area}\")  # Outputs: Updated Area: 24\n"
      ],
      "metadata": {
        "colab": {
          "base_uri": "https://localhost:8080/"
        },
        "id": "M1D_sfBeGPbv",
        "outputId": "d4d9e008-cfbb-4475-b6e0-e23f00209afe"
      },
      "execution_count": null,
      "outputs": [
        {
          "output_type": "stream",
          "name": "stdout",
          "text": [
            "Width: 5\n",
            "Height: 3\n",
            "Area: 15\n",
            "Updated Area: 24\n"
          ]
        }
      ]
    },
    {
      "cell_type": "code",
      "source": [],
      "metadata": {
        "id": "FP6peZBfGRtB"
      },
      "execution_count": null,
      "outputs": []
    },
    {
      "cell_type": "markdown",
      "source": [
        "**Q70.** Explain the use of the @deleter decorator in Python property decorators. Provide a code example\n",
        "demonstrating its application.\n",
        "\n",
        "**Ans.** The @deleter decorator in Python is used in conjunction with the @property decorator to define a method that can be called when an attribute is deleted using the del statement. This method provides control over the deletion of an attribute, allowing you to perform specific actions, such as cleaning up resources or preventing deletion.\n",
        "\n",
        "When you define a @deleter method, you can raise exceptions if deletion should be restricted, or handle any necessary cleanup before the attribute is removed from the object.\n",
        "\n",
        "**Purpose of @deleter:**\n",
        "\n",
        "**1. Encapsulation:** Control what happens when an attribute is deleted.\n",
        "\n",
        "**2. Cleanup:** You can perform any necessary cleanup actions, such as freeing resources or logging.\n",
        "\n",
        "**3. Prevent Deletion:** You can restrict the deletion of an attribute by raising an exception."
      ],
      "metadata": {
        "id": "Qbepg_oeGTiy"
      }
    },
    {
      "cell_type": "code",
      "source": [
        "class Person:\n",
        "    def __init__(self, name):\n",
        "        self._name = name  # Private attribute\n",
        "\n",
        "    @property\n",
        "    def name(self):\n",
        "        return self._name\n",
        "\n",
        "    @name.setter\n",
        "    def name(self, value):\n",
        "        if not value:\n",
        "            raise ValueError(\"Name cannot be empty\")\n",
        "        self._name = value\n",
        "\n",
        "    @name.deleter\n",
        "    def name(self):\n",
        "        raise AttributeError(\"Cannot delete name attribute\")\n",
        "\n",
        "# Create an instance of Person\n",
        "person = Person(\"Alice\")\n",
        "\n",
        "# Accessing the name property\n",
        "print(f\"Name: {person.name}\")  # Outputs: Name: Alice\n",
        "\n",
        "# Attempting to delete the name attribute\n",
        "try:\n",
        "    del person.name\n",
        "except AttributeError as e:\n",
        "    print(f\"Error: {e}\")  # Outputs: Error: Cannot delete name attribute\n",
        "\n",
        "# You can still modify the name\n",
        "person.name = \"Bob\"\n",
        "print(f\"Updated Name: {person.name}\")  # Outputs: Updated Name: Bob\n"
      ],
      "metadata": {
        "colab": {
          "base_uri": "https://localhost:8080/"
        },
        "id": "4CKL8F_0Gv5p",
        "outputId": "fc705288-5c49-443b-9725-f50cd55656d5"
      },
      "execution_count": null,
      "outputs": [
        {
          "output_type": "stream",
          "name": "stdout",
          "text": [
            "Name: Alice\n",
            "Error: Cannot delete name attribute\n",
            "Updated Name: Bob\n"
          ]
        }
      ]
    },
    {
      "cell_type": "code",
      "source": [],
      "metadata": {
        "id": "AyDHepKOGzbT"
      },
      "execution_count": null,
      "outputs": []
    },
    {
      "cell_type": "markdown",
      "source": [
        "**Q71.** How does encapsulation relate to property decorators in Python? Provide an example showcasing\n",
        "encapsulation using property decorators.\n",
        "\n",
        "**Ans.** **Encapsulation in Python:**\n",
        "\n",
        "Encapsulation is one of the core concepts of object-oriented programming. It refers to the practice of restricting direct access to some of an object's attributes and methods. By doing so, we can hide the internal state of the object and only expose necessary parts through controlled access methods. This helps in maintaining the integrity of the data and allows for modification of how the data is handled without affecting external code.\n",
        "\n",
        "In Python, encapsulation is typically achieved through the use of private attributes (with a leading underscore) and getter/setter methods. Property decorators (@property, @setter, @deleter) allow you to implement encapsulation in a more Pythonic way by hiding the internal representation of attributes while still providing access through getter and setter methods.\n",
        "\n",
        "**Role of Property Decorators in Encapsulation:**\n",
        "\n",
        "**1. Getter (@property):** Provides controlled access to private attributes without exposing them directly.\n",
        "\n",
        "**2. Setter (@ribute>.setter)<att:** Allows modification of attributes while ensuring that certain rules or logic are followed (e.g., validation).\n",
        "\n",
        "**3. Deleter (@<attribute>.deleter):** Controls deletion of an attribute, which may involve cleanup or preventing the attribute from being deleted."
      ],
      "metadata": {
        "id": "6BpOGSsJG0Tm"
      }
    },
    {
      "cell_type": "code",
      "source": [
        "class BankAccount:\n",
        "    def __init__(self, balance):\n",
        "        self._balance = balance  # Private attribute (underscore convention)\n",
        "\n",
        "    @property\n",
        "    def balance(self):\n",
        "        \"\"\"Getter method to access the balance.\"\"\"\n",
        "        return self._balance\n",
        "\n",
        "    @balance.setter\n",
        "    def balance(self, amount):\n",
        "        \"\"\"Setter method to update the balance with validation.\"\"\"\n",
        "        if amount < 0:\n",
        "            raise ValueError(\"Balance cannot be negative\")\n",
        "        self._balance = amount\n",
        "\n",
        "    @balance.deleter\n",
        "    def balance(self):\n",
        "        \"\"\"Prevent deletion of the balance attribute.\"\"\"\n",
        "        raise AttributeError(\"Cannot delete balance attribute\")\n",
        "\n",
        "# Create an instance of BankAccount\n",
        "account = BankAccount(1000)\n",
        "\n",
        "# Accessing the balance using the getter method\n",
        "print(f\"Initial Balance: {account.balance}\")  # Outputs: Initial Balance: 1000\n",
        "\n",
        "# Modifying the balance using the setter method\n",
        "account.balance = 2000\n",
        "print(f\"Updated Balance: {account.balance}\")  # Outputs: Updated Balance: 2000\n",
        "\n",
        "# Attempting to set a negative balance will raise an exception\n",
        "try:\n",
        "    account.balance = -500\n",
        "except ValueError as e:\n",
        "    print(f\"Error: {e}\")  # Outputs: Error: Balance cannot be negative\n",
        "\n",
        "# Attempting to delete the balance will raise an exception\n",
        "try:\n",
        "    del account.balance\n",
        "except AttributeError as e:\n",
        "    print(f\"Error: {e}\")  # Outputs: Error: Cannot delete balance attribute\n"
      ],
      "metadata": {
        "colab": {
          "base_uri": "https://localhost:8080/"
        },
        "id": "Grs8PIAvHWvB",
        "outputId": "912280bc-e4e8-4236-982a-2751a77dccee"
      },
      "execution_count": null,
      "outputs": [
        {
          "output_type": "stream",
          "name": "stdout",
          "text": [
            "Initial Balance: 1000\n",
            "Updated Balance: 2000\n",
            "Error: Balance cannot be negative\n",
            "Error: Cannot delete balance attribute\n"
          ]
        }
      ]
    },
    {
      "cell_type": "code",
      "source": [],
      "metadata": {
        "id": "pTzemrfgHZiG"
      },
      "execution_count": null,
      "outputs": []
    }
  ],
  "metadata": {
    "colab": {
      "provenance": [],
      "authorship_tag": "ABX9TyMFAjWAdm9AMMbpPySWSAru",
      "include_colab_link": true
    },
    "kernelspec": {
      "display_name": "Python 3",
      "name": "python3"
    },
    "language_info": {
      "name": "python"
    }
  },
  "nbformat": 4,
  "nbformat_minor": 0
}